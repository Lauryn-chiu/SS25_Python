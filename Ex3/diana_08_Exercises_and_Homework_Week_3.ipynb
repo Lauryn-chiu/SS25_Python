{
 "cells": [
  {
   "cell_type": "markdown",
   "metadata": {
    "nbgrader": {
     "grade": false,
     "grade_id": "cell-515e01b25bda86a9",
     "locked": true,
     "schema_version": 3,
     "solution": false,
     "task": false
    }
   },
   "source": [
    "# Exercises and Homework for week 3"
   ]
  },
  {
   "cell_type": "markdown",
   "metadata": {
    "nbgrader": {
     "grade": false,
     "grade_id": "cell-14ca577e70096fbf",
     "locked": true,
     "schema_version": 3,
     "solution": false,
     "task": false
    }
   },
   "source": [
    "## physics725: Scientific Programming with Python (SS 2024)\n",
    "\n",
    "Oliver Cordes & Thomas Erben\n",
    "\n",
    "---"
   ]
  },
  {
   "cell_type": "markdown",
   "metadata": {},
   "source": [
    "Homework is due on **Thursday, 02/05/2024, 11:55pm**\n",
    "\n",
    " * You only learn a programming language by actively praticing and using it! We therefore **strongly** advise you to work on the homework problems.\n",
    " * Please discuss the problems with your student peers and with your tutor.\n",
    " * Your code(s) need(s) to be well and appropriately commented!\n",
    " * Submit this notebook and, if necessary, additional files in a `zip`-archive with the naming scheme provided by your tutor.\n",
    "\n",
    "**Topics of this exercise:**\n",
    " * Git 101\n",
    " * First contact with `numpy`-arrays\n",
    " * Basic plots with matplotliba\n",
    "\n",
    "**Your group number here please:**  Group XX"
   ]
  },
  {
   "cell_type": "markdown",
   "metadata": {},
   "source": [
    "## 1. Lecture Review (0 points)"
   ]
  },
  {
   "cell_type": "markdown",
   "metadata": {},
   "source": [
    "If you did the lecture review questions [06_Review_questions.ipynb](06_Review_questions.ipynb) (strongly recommended!): \n",
    "Please discuss with your tutor and your group any issues/problems you had with them.\n",
    "\n",
    "---"
   ]
  },
  {
   "cell_type": "markdown",
   "metadata": {},
   "source": [
    "## 2. Practical git (5 points)"
   ]
  },
  {
   "cell_type": "markdown",
   "metadata": {},
   "source": [
    "This is the list of tasks you __need__ to do to finish this exercise. It looks complicated but it is a step by step instruction."
   ]
  },
  {
   "cell_type": "markdown",
   "metadata": {},
   "source": [
    "### 2.1. Setup your gitlab-Account"
   ]
  },
  {
   "cell_type": "markdown",
   "metadata": {},
   "source": [
    "Create and setup an account in the HRZ-gitlab instance:\n",
    "\n",
    " * generate a ssh-private-public-key-pair (with ssh-keygen in a terminal, if you don't have one)\n",
    " * login into https://gitlab.uni-bonn.de/ , click the  *SSO Uni Bonn* button. Fill in your Uni-ID credentials in the shibboleth-formular\n",
    " * after login you will be in your main account page, in which you see all your projects (own or cooperation projects), click on the field right of the top `+`-sign to open your account preference\n",
    " * open `Edit profile->SSH Keys` page from the left menu\n",
    " * click `Add new key` and upload your __public__-part of your previously generated ssh-private-public-key-pair (remove the date in the `Expiration date` field!)"
   ]
  },
  {
   "cell_type": "markdown",
   "metadata": {},
   "source": [
    "### 2.2. Create your own repository"
   ]
  },
  {
   "cell_type": "markdown",
   "metadata": {},
   "source": [
    "We recommend that you create your own repository for this course (not only for this homework sheet)."
   ]
  },
  {
   "cell_type": "markdown",
   "metadata": {},
   "source": [
    "* Return to your main page, click on the uni-bonn-logo on the top left side\n",
    "* Click the top right button `New project`, choose `Create blank project`\n",
    "* Project name should be `Physics725`, the repository should be `private` -> Press `Create Projekt`"
   ]
  },
  {
   "cell_type": "markdown",
   "metadata": {},
   "source": [
    "Now you need to give your tutor the access right to the repository:"
   ]
  },
  {
   "cell_type": "markdown",
   "metadata": {},
   "source": [
    "* ask your tutor for his `Uni-ID` on gitlab\n",
    "* use the menu in left sidebar `Manage->Members`; click on `Invite members`\n",
    "* put the tutors ID in the `Username` field and select the role `Developer`; click `Invite`"
   ]
  },
  {
   "cell_type": "markdown",
   "metadata": {},
   "source": [
    "Your tutor will get an invitation message."
   ]
  },
  {
   "cell_type": "markdown",
   "metadata": {},
   "source": [
    "### 2.3. Work with the repository"
   ]
  },
  {
   "cell_type": "markdown",
   "metadata": {},
   "source": [
    "Whenever you login into gitlab you will see __all__ of your repositories and can select the webpage of your `Physics725` repository."
   ]
  },
  {
   "cell_type": "markdown",
   "metadata": {},
   "source": [
    "**Your task:**\n",
    " 1. Click on `Code` and then copy the text from `Clone with SSH` or using the copy-button (text will be in the desktop clipboard)\n",
    " 2. open a terminal and clone this git-repository while pasting the correct URL (e.g. `git@gitlab.uni-bonn.de:<YOURUNIID>/physics725.git`)\n",
    " 3. Change your personal entries, Name and UniID which you have in eCampus (!), in the repositories, using `git config` \n",
    " 4. Create a file `this_is_a_textfile.txt`, add an additional line with some text, add the file to the git system\n",
    " 5. Commit the changes and push the results back to the server"
   ]
  },
  {
   "cell_type": "code",
   "execution_count": null,
   "metadata": {},
   "outputs": [],
   "source": [
    "# please add one git-URL for your homework group to check"
   ]
  },
  {
   "cell_type": "markdown",
   "metadata": {},
   "source": [
    "**Hints:**\n",
    " * only one of any homework group need to do this task, but we recommend that everybody should do this!"
   ]
  },
  {
   "cell_type": "markdown",
   "metadata": {},
   "source": [
    "### 2.4. Update the repository"
   ]
  },
  {
   "cell_type": "markdown",
   "metadata": {},
   "source": [
    "In this small task you should update the repository to demonstrate that you understood the git basics."
   ]
  },
  {
   "cell_type": "markdown",
   "metadata": {},
   "source": [
    "**Your task:**\n",
    "\n",
    " 1. Move the file `this_is_a_textfile.txt` in a new subfolder `test1`\n",
    " 2. Create a second folder `test2` and create a new file `this_is_another_textfile.txt` with at least one text line\n",
    " 3. Commit all changes and push the results back to the server"
   ]
  },
  {
   "cell_type": "markdown",
   "metadata": {},
   "source": [
    "**Hints:**\n",
    "* please do **2.3.** and **2.4.** with two individual steps, we can proove it!"
   ]
  },
  {
   "cell_type": "markdown",
   "metadata": {},
   "source": [
    "---"
   ]
  },
  {
   "cell_type": "markdown",
   "metadata": {},
   "source": [
    "## 3. Numerical Integration (10 points)"
   ]
  },
  {
   "cell_type": "markdown",
   "metadata": {
    "nbgrader": {
     "grade": false,
     "grade_id": "cell-9c1d31c09a952d4a",
     "locked": true,
     "schema_version": 3,
     "solution": false,
     "task": false
    }
   },
   "source": [
    "We want to estimate the integral:\n",
    "\n",
    "$$\\int_1^2 \\frac{1}{x}{\\rm d} x = \\log 2 \\approx 0.693147 $$\n",
    "\n",
    "For the calculation we want to compare different mathematical methods. Be $f(x)$ a continuous function on the interval $I=[a;b]$. Be $x_i$ with $a < x_0 < \\dots < x_n < b$ a decomposition of the interval $I$. The integral area below the function can be divided into a finite number of small areas $A_i$. The sum of these areas approximates the integral:\n",
    "$$ \\int_a^bf(x)\\,{\\rm d}x\\approx \\sum_{i=0}^{n-1} A_i$$\n",
    "\n",
    "These numerical approximations can be reduced in the way how the small areas are calculated:\n",
    "1. The simplest approximation is the use of the Riemann sums. The area below the function $f$ will be described by a series of rectangles. One rectangle between $x_i$ and $x_{i+1}$ can be calculated with:\n",
    "    $$A_i = (x_{i+1}-x_i) \\cdot f\\left(\\frac{x_i+x_{i+1}}2\\right)$$\n",
    "2. Instead of a rectangle one can also define a trapezium:\n",
    "    $$A_i = (x_{i+1}-x_i) \\cdot \\left( \\frac{f(x_i)+f(x_{i+1})}{2} \\right)$$\n",
    "3. A further approximation is the Simpsons method in which the part below the function is approximated by a parabel. The area can be calculated by:\n",
    "    $$A_i = (x_{i+1}-x_i)\\cdot \\frac{1}{6} \\left( f(x_i) + 4\\cdot f\\left(\\frac{x_i+x_{i+1}}2\\right) + f(x_{i+1}) \\right)$$\n",
    "    \n",
    "    \n",
    "To illustrate the different approximations, the small areas for each method are drawn for the $f(x)=\\frac{1}{x}$ function:\n",
    "<table>\n",
    "<tr>\n",
    "    <td>\n",
    "        <img src=\"figs/riemann.png\">\n",
    "    </td>\n",
    "    <td>\n",
    "        <img src=\"figs/trapez.png\">\n",
    "    </td>\n",
    "    <td>\n",
    "        <img src=\"figs/simpson.png\">\n",
    "    </td>\n",
    "</tr>\n",
    "</table>\n",
    "    \n",
    "**Your tasks:**\n",
    "\n",
    " Implement each of the approximation for the given integral with numpy arrays and compare the results. Which method gives the best value in comparison to the exact value of $\\log 2$ (use a print command for your decision!)?  You can assume a separation of the intervall $I=[a;b]$ in $n=50$ equally spaced parts. \n",
    " \n",
    "**Hints:**\n",
    "\n",
    "For the calculation of the function values $f(x)$ we pre defined a simple function which you can use. You can use this function with ```y=f(x)```. ```x``` can be a float or integer variable or a numpy-array!"
   ]
  },
  {
   "cell_type": "code",
   "execution_count": null,
   "metadata": {
    "tags": []
   },
   "outputs": [],
   "source": [
    "import numpy as np\n",
    "\n",
    "def f(x):\n",
    "    \"\"\"The simple function that returns 1/x.\"\"\"\n",
    "    return 1/x\n",
    "\n",
    "# Your solution here please"
   ]
  },
  {
   "cell_type": "markdown",
   "metadata": {},
   "source": [
    "---"
   ]
  },
  {
   "cell_type": "markdown",
   "metadata": {},
   "source": [
    "## 4. Numerical gauss function (15 points)"
   ]
  },
  {
   "cell_type": "markdown",
   "metadata": {},
   "source": [
    "For the next exercise a Gaussian distribution with zero mean and a variance $\\sigma = 1$ is given by\n",
    "\n",
    "$$ y(x) = C \\exp \\left(-\\frac{x^2}{2}\\right) $$\n",
    "\n",
    "The constant C is fixed so that the integral from $-\\infty$ to $\\infty$ is 1."
   ]
  },
  {
   "cell_type": "markdown",
   "metadata": {},
   "source": [
    "**Your tasks:**\n",
    " * make a complete plot of the distribution function against x, with $C=1$. Choose a useful interval.\n",
    " * choose one of the methods from exercise 2 to numerically integrate the function over a wide enough range to capture virtually all of the important area. Use the integral result to determine the value of $C$. Compare your results with the correct value of $C$ (use again $\\sigma = 1$).\n",
    " * what fraction of the area is contained between `-1` and `1`?\n",
    " * what fraction of the area is contained between `-3` and `3`? Give the meaning of both fractions!\n"
   ]
  },
  {
   "cell_type": "markdown",
   "metadata": {},
   "source": [
    "**Hints**:\n",
    " * you can use one code cell for all solutions\n",
    " * you can choose a good interval for the numerical integration from the first plot\n",
    " * give the result of the fractions of the area in percent of the total area of the integral"
   ]
  },
  {
   "cell_type": "code",
   "execution_count": null,
   "metadata": {
    "tags": []
   },
   "outputs": [],
   "source": [
    "# Your solution here please"
   ]
  },
  {
   "cell_type": "markdown",
   "metadata": {},
   "source": [
    "---"
   ]
  },
  {
   "cell_type": "markdown",
   "metadata": {},
   "source": [
    "## 5. Traps while plotting (5 points)"
   ]
  },
  {
   "cell_type": "markdown",
   "metadata": {},
   "source": [
    "Somebody wants to plot the function $f(x) = \\frac{\\sin(30x)}x$ with $x\\in [1,10]$. The submitted code looks like:"
   ]
  },
  {
   "cell_type": "code",
   "execution_count": null,
   "metadata": {
    "tags": []
   },
   "outputs": [],
   "source": [
    "%matplotlib inline\n",
    "\n",
    "import numpy as np\n",
    "import matplotlib.pyplot as plt\n",
    "\n",
    "x = np.linspace(1, 10, 100)\n",
    "y = np.sin(30. * x) / x\n",
    "\n",
    "fig, ax = plt.subplots()\n",
    "\n",
    "ax.plot(x, y, linewidth=2.0)"
   ]
  },
  {
   "cell_type": "markdown",
   "metadata": {},
   "source": [
    "Obviously the result was not really wanted. *What's wrong with the code?*"
   ]
  },
  {
   "cell_type": "markdown",
   "metadata": {},
   "source": [
    "A lecturer creates this plot to demonstrate a better solution:\n",
    "\n",
    "<img src=\"figs/trapsplotting.png\" style=\"width:50%\"/>"
   ]
  },
  {
   "cell_type": "markdown",
   "metadata": {},
   "source": [
    "**Tasks**:\n",
    "\n",
    "Recreate the plot which includes the faulty (blue plot) and corrected code (red plot) for the function $f(x) = \\frac{\\sin(30x)}x$ with $x\\in [1,10]$. The corrected plot is shifted by `+2` on the y-axis. Please create also the legend box and all labels. Write the reason why the original code is not correct as a comment into the code."
   ]
  },
  {
   "cell_type": "code",
   "execution_count": null,
   "metadata": {},
   "outputs": [],
   "source": [
    "# Your solution here please"
   ]
  },
  {
   "cell_type": "markdown",
   "metadata": {},
   "source": [
    "## 6.  Temperature Data (15 Punkte)"
   ]
  },
  {
   "cell_type": "markdown",
   "metadata": {},
   "source": [
    "As a first data analysis task, we want to look at a data set that we will continue to use in the coming exercises."
   ]
  },
  {
   "cell_type": "markdown",
   "metadata": {},
   "source": [
    "The student Annika, who also lives in Bonn, would like to find out about the development of meteorological data in Bonn over a certain period of time and make a few small calculations."
   ]
  },
  {
   "cell_type": "markdown",
   "metadata": {},
   "source": [
    "\n",
    "The data is stored in the file `NewWeather.csv.gz`. The following command shows the first lines (please ignore the Linux errors!):"
   ]
  },
  {
   "cell_type": "code",
   "execution_count": null,
   "metadata": {},
   "outputs": [],
   "source": [
    "!gunzip -c  NewWeather.csv.gz | head -10"
   ]
  },
  {
   "cell_type": "markdown",
   "metadata": {},
   "source": [
    "\n",
    "The data is stored in the file `NewWeather.csv.gz`. The following command shows the first lines (please ignore the Linux errors!):As you can see, we have collected various measured values in the data set. In a first task Annika is interested in the pure temperatures (column 3, index 2!). For the sake of simplicity, the measurement date is given as a year plus a fraction of a year. For example, 6 January 2000 (OO:00h) would be coded as the 5th day of the year 2000: $2000 + \\frac{5}{366} \\approx 2000+0.01366 = 2001.01366$. Of course, you can also calculate hours and minutes as fractions of days and accordingly as fractions of years."
   ]
  },
  {
   "cell_type": "markdown",
   "metadata": {},
   "source": [
    "\n",
    "**The entire task is divided into small sections that build on each other. If you have problems with a subtask, ask your tutor directly for help so that this task does not drag on indefinitely. We also want to practise masking/selecting data for the first time here!**"
   ]
  },
  {
   "cell_type": "markdown",
   "metadata": {},
   "source": [
    "\n",
    "**6.1** As a first step, you should read the data from the file with `np.loadtxt` and split it into an array with the days and an array with the temperatures as in the lecture. Create a test plot of the temperatures against the dates. A `scatter` plot is recommended for an initial overview. You will see that some temperatures have “unrealistic” values (which value?). Sort out the nonsensical temperatures from the data set and then plot the remaining temperatures against the date as a check in a line plot. Make sure that the plots are complete as specified in the lecture (labels, titles, etc.).\n",
    "\n",
    "\n",
    "**Notes:**\n",
    "- we have a CSV file, so you should call `np.loadtxt` with an appropriate **delimiter**!"
   ]
  },
  {
   "cell_type": "code",
   "execution_count": null,
   "metadata": {},
   "outputs": [],
   "source": [
    "# Your solution here please"
   ]
  },
  {
   "cell_type": "markdown",
   "metadata": {},
   "source": [
    "\n",
    "**6.2** As you saw at the end of the first task, the data set has a gap (~2010-2019) and therefore the line plot looks a bit strange. Correct the line plot so that the gap can be seen as a gap and is not connected!\n",
    "\n",
    "**Notes:**\n",
    " - it should be clear that you can't do this in **one** line plot, but you can split the data into two halves and then plot them with the same colour (colour doesn't matter)\n",
    " - think about suitable masks for splitting (in this case of gaps, the boundaries do not have to be exact, why?)"
   ]
  },
  {
   "cell_type": "code",
   "execution_count": null,
   "metadata": {},
   "outputs": [],
   "source": [
    "# Your solution here please"
   ]
  },
  {
   "cell_type": "markdown",
   "metadata": {},
   "source": [
    "\n",
    "**6.3** Of course, it is not so meaningful if you display all the data together, but as you have seen, you can at least visually assess the data. Annika would now like to concentrate specifically on the year 2003 (her year of birth). To do this, write an `extract_data_year` that returns the filtered data as arrays. Use the desired year and the two arrays for the days and temperatures as transfer arguments. Only plot the data for 2003!\n",
    "\n",
    "**Note:**\n",
    " * You can use the year fractions for the x-axis, a conversion to months/days is not useful here.\n",
    " * splitting into 2 data sets is not necessary here, as we are analysing a continuous area with 2003"
   ]
  },
  {
   "cell_type": "code",
   "execution_count": null,
   "metadata": {},
   "outputs": [],
   "source": [
    "# Your solution here please"
   ]
  },
  {
   "cell_type": "markdown",
   "metadata": {},
   "source": [
    "\n",
    "**6.4** With this information, Annika can also do some statistics for all months of 2003.\n",
    "To do this, you should calculate a mean value and the standard deviation for each month and display these in an error plot (`ax.errorbar(...)`),\n",
    "in which the variance is used as the error in $y$.\n",
    "Write another function `extract_data_month` which extracts the data for the corresponding month from the arrays for the days and temperatures and a specified month from $0\\ldots11$ (January to December).\n",
    "\n",
    "**Note:**\n",
    "\n",
    " * Create two new arrays for the results! The function `np.zeros(5, dtype=np.float64)` is helpful here, e.g. to create an array with 5 values, each of which is 0.\n",
    " * To calculate the mean and variance of an array $x$, use the functions `x.mean()` and `x.std()`.\n",
    " * To mask the individual months, you can extract the year fraction from the date using the modulo operator. Each month should simply be a $\\frac{1}{12}$ of the year, i.e. all months should be the same length. Take a look at the following example:"
   ]
  },
  {
   "cell_type": "code",
   "execution_count": null,
   "metadata": {},
   "outputs": [],
   "source": [
    "# Your solution here please"
   ]
  }
 ],
 "metadata": {
  "celltoolbar": "Create Assignment",
  "kernelspec": {
   "display_name": "Python 3 (ipykernel)",
   "language": "python",
   "name": "python3"
  },
  "language_info": {
   "codemirror_mode": {
    "name": "ipython",
    "version": 3
   },
   "file_extension": ".py",
   "mimetype": "text/x-python",
   "name": "python",
   "nbconvert_exporter": "python",
   "pygments_lexer": "ipython3",
   "version": "3.11.6"
  }
 },
 "nbformat": 4,
 "nbformat_minor": 4
}
