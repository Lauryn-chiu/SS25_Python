{
 "cells": [
  {
   "cell_type": "markdown",
   "metadata": {
    "nbgrader": {
     "grade": false,
     "grade_id": "cell-515e01b25bda86a9",
     "locked": true,
     "schema_version": 3,
     "solution": false,
     "task": false
    }
   },
   "source": [
    "# Exercises and Homework for week 3"
   ]
  },
  {
   "cell_type": "markdown",
   "metadata": {
    "nbgrader": {
     "grade": false,
     "grade_id": "cell-14ca577e70096fbf",
     "locked": true,
     "schema_version": 3,
     "solution": false,
     "task": false
    }
   },
   "source": [
    "## physics725: Scientific Programming with Python (SS 2024)\n",
    "\n",
    "Oliver Cordes & Thomas Erben\n",
    "\n",
    "---"
   ]
  },
  {
   "cell_type": "markdown",
   "metadata": {},
   "source": [
    "Homework is due on **Thursday, 02/05/2024, 11:55pm**\n",
    "\n",
    " * You only learn a programming language by actively praticing and using it! We therefore **strongly** advise you to work on the homework problems.\n",
    " * Please discuss the problems with your student peers and with your tutor.\n",
    " * Your code(s) need(s) to be well and appropriately commented!\n",
    " * Submit this notebook and, if necessary, additional files in a `zip`-archive with the naming scheme provided by your tutor.\n",
    "\n",
    "**Topics of this exercise:**\n",
    " * Git 101\n",
    " * First contact with `numpy`-arrays\n",
    " * Basic plots with matplotliba\n",
    "\n",
    "**Your group number here please:**  Group XX"
   ]
  },
  {
   "cell_type": "markdown",
   "metadata": {},
   "source": [
    "## 1. Lecture Review (0 points)"
   ]
  },
  {
   "cell_type": "markdown",
   "metadata": {},
   "source": [
    "If you did the lecture review questions [06_Review_questions.ipynb](06_Review_questions.ipynb) (strongly recommended!): \n",
    "Please discuss with your tutor and your group any issues/problems you had with them.\n",
    "\n",
    "---"
   ]
  },
  {
   "cell_type": "code",
   "execution_count": 1,
   "metadata": {},
   "outputs": [],
   "source": [
    "#Libraries and dependencies\n",
    "%matplotlib inline\n",
    "\n",
    "import numpy as np\n",
    "import math\n",
    "import matplotlib.pyplot as plt\n",
    "import matplotlib\n",
    "import numpy.random as nr"
   ]
  },
  {
   "cell_type": "markdown",
   "metadata": {},
   "source": [
    "## 2. Practical git (5 points)"
   ]
  },
  {
   "cell_type": "markdown",
   "metadata": {},
   "source": [
    "This is the list of tasks you __need__ to do to finish this exercise. It looks complicated but it is a step by step instruction."
   ]
  },
  {
   "cell_type": "markdown",
   "metadata": {},
   "source": [
    "### 2.1. Setup your gitlab-Account"
   ]
  },
  {
   "cell_type": "markdown",
   "metadata": {},
   "source": [
    "Create and setup an account in the HRZ-gitlab instance:\n",
    "\n",
    " * generate a ssh-private-public-key-pair (with ssh-keygen in a terminal, if you don't have one)\n",
    " * login into https://gitlab.uni-bonn.de/ , click the  *SSO Uni Bonn* button. Fill in your Uni-ID credentials in the shibboleth-formular\n",
    " * after login you will be in your main account page, in which you see all your projects (own or cooperation projects), click on the field right of the top `+`-sign to open your account preference\n",
    " * open `Edit profile->SSH Keys` page from the left menu\n",
    " * click `Add new key` and upload your __public__-part of your previously generated ssh-private-public-key-pair (remove the date in the `Expiration date` field!)"
   ]
  },
  {
   "cell_type": "markdown",
   "metadata": {},
   "source": [
    "### 2.2. Create your own repository"
   ]
  },
  {
   "cell_type": "markdown",
   "metadata": {},
   "source": [
    "We recommend that you create your own repository for this course (not only for this homework sheet)."
   ]
  },
  {
   "cell_type": "markdown",
   "metadata": {},
   "source": [
    "* Return to your main page, click on the uni-bonn-logo on the top left side\n",
    "* Click the top right button `New project`, choose `Create blank project`\n",
    "* Project name should be `Physics725`, the repository should be `private` -> Press `Create Projekt`"
   ]
  },
  {
   "cell_type": "markdown",
   "metadata": {},
   "source": [
    "Now you need to give your tutor the access right to the repository:"
   ]
  },
  {
   "cell_type": "markdown",
   "metadata": {},
   "source": [
    "* ask your tutor for his `Uni-ID` on gitlab\n",
    "* use the menu in left sidebar `Manage->Members`; click on `Invite members`\n",
    "* put the tutors ID in the `Username` field and select the role `Developer`; click `Invite`"
   ]
  },
  {
   "cell_type": "markdown",
   "metadata": {},
   "source": [
    "Your tutor will get an invitation message."
   ]
  },
  {
   "cell_type": "markdown",
   "metadata": {},
   "source": [
    "### 2.3. Work with the repository"
   ]
  },
  {
   "cell_type": "markdown",
   "metadata": {},
   "source": [
    "Whenever you login into gitlab you will see __all__ of your repositories and can select the webpage of your `Physics725` repository."
   ]
  },
  {
   "cell_type": "markdown",
   "metadata": {},
   "source": [
    "**Your task:**\n",
    " 1. Click on `Code` and then copy the text from `Clone with SSH` or using the copy-button (text will be in the desktop clipboard)\n",
    " 2. open a terminal and clone this git-repository while pasting the correct URL (e.g. `git@gitlab.uni-bonn.de:<YOURUNIID>/physics725.git`)\n",
    " 3. Change your personal entries, Name and UniID which you have in eCampus (!), in the repositories, using `git config` \n",
    " 4. Create a file `this_is_a_textfile.txt`, add an additional line with some text, add the file to the git system\n",
    " 5. Commit the changes and push the results back to the server"
   ]
  },
  {
   "cell_type": "code",
   "execution_count": 2,
   "metadata": {},
   "outputs": [],
   "source": [
    "# please add one git-URL for your homework group to check"
   ]
  },
  {
   "cell_type": "markdown",
   "metadata": {},
   "source": [
    "**Hints:**\n",
    " * only one of any homework group need to do this task, but we recommend that everybody should do this!"
   ]
  },
  {
   "cell_type": "markdown",
   "metadata": {},
   "source": [
    "### 2.4. Update the repository"
   ]
  },
  {
   "cell_type": "markdown",
   "metadata": {},
   "source": [
    "In this small task you should update the repository to demonstrate that you understood the git basics."
   ]
  },
  {
   "cell_type": "markdown",
   "metadata": {},
   "source": [
    "**Your task:**\n",
    "\n",
    " 1. Move the file `this_is_a_textfile.txt` in a new subfolder `test1`\n",
    " 2. Create a second folder `test2` and create a new file `this_is_another_textfile.txt` with at least one text line\n",
    " 3. Commit all changes and push the results back to the server"
   ]
  },
  {
   "cell_type": "markdown",
   "metadata": {},
   "source": [
    "**Hints:**\n",
    "* please do **2.3.** and **2.4.** with two individual steps, we can proove it!"
   ]
  },
  {
   "cell_type": "markdown",
   "metadata": {},
   "source": [
    "---"
   ]
  },
  {
   "cell_type": "markdown",
   "metadata": {},
   "source": [
    "## 6.  Temperature Data (15 Punkte)"
   ]
  },
  {
   "cell_type": "markdown",
   "metadata": {},
   "source": [
    "As a first data analysis task, we want to look at a data set that we will continue to use in the coming exercises."
   ]
  },
  {
   "cell_type": "markdown",
   "metadata": {},
   "source": [
    "The student Annika, who also lives in Bonn, would like to find out about the development of meteorological data in Bonn over a certain period of time and make a few small calculations."
   ]
  },
  {
   "cell_type": "markdown",
   "metadata": {},
   "source": [
    "\n",
    "The data is stored in the file `NewWeather.csv.gz`. The following command shows the first lines (please ignore the Linux errors!):"
   ]
  },
  {
   "cell_type": "code",
   "execution_count": 3,
   "metadata": {},
   "outputs": [
    {
     "name": "stderr",
     "output_type": "stream",
     "text": [
      "\"gunzip\" no se reconoce como un comando interno o externo,\n",
      "programa o archivo por lotes ejecutable.\n"
     ]
    }
   ],
   "source": [
    "!gunzip -c  NewWeather.csv.gz | head -10"
   ]
  },
  {
   "cell_type": "markdown",
   "metadata": {},
   "source": [
    "\n",
    "The data is stored in the file `NewWeather.csv.gz`. The following command shows the first lines (please ignore the Linux errors!):As you can see, we have collected various measured values in the data set. In a first task Annika is interested in the pure temperatures (column 3, index 2!). For the sake of simplicity, the measurement date is given as a year plus a fraction of a year. For example, 6 January 2000 (OO:00h) would be coded as the 5th day of the year 2000: $2000 + \\frac{5}{366} \\approx 2000+0.01366 = 2001.01366$. Of course, you can also calculate hours and minutes as fractions of days and accordingly as fractions of years."
   ]
  },
  {
   "cell_type": "markdown",
   "metadata": {},
   "source": [
    "\n",
    "**The entire task is divided into small sections that build on each other. If you have problems with a subtask, ask your tutor directly for help so that this task does not drag on indefinitely. We also want to practise masking/selecting data for the first time here!**"
   ]
  },
  {
   "cell_type": "markdown",
   "metadata": {},
   "source": [
    "\n",
    "**6.1** As a first step, you should read the data from the file with `np.loadtxt` and split it into an array with the days and an array with the temperatures as in the lecture. Create a test plot of the temperatures against the dates. A `scatter` plot is recommended for an initial overview. You will see that some temperatures have “unrealistic” values (which value?). Sort out the nonsensical temperatures from the data set and then plot the remaining temperatures against the date as a check in a line plot. Make sure that the plots are complete as specified in the lecture (labels, titles, etc.).\n",
    "\n",
    "\n",
    "**Notes:**\n",
    "- we have a CSV file, so you should call `np.loadtxt` with an appropriate **delimiter**!"
   ]
  },
  {
   "cell_type": "code",
   "execution_count": 4,
   "metadata": {},
   "outputs": [
    {
     "data": {
      "text/plain": [
       "array([[1999.99988616, 1010.6       ,    3.7       , ...,    0.        ,\n",
       "           3.1       ,  140.        ],\n",
       "       [1999.99988805, 1010.6       ,    3.8       , ...,    0.        ,\n",
       "           3.        ,  150.        ],\n",
       "       [1999.99988995, 1010.5       ,    3.7       , ...,    0.        ,\n",
       "           3.        ,  150.        ],\n",
       "       ...,\n",
       "       [2023.99989375,  991.2       ,    8.        , ...,    0.        ,\n",
       "           5.3       ,  180.        ],\n",
       "       [2023.99989564,  991.3       ,    7.9       , ...,    0.        ,\n",
       "           4.8       ,  170.        ],\n",
       "       [2023.99989564,  991.3       ,    7.9       , ...,    0.        ,\n",
       "           4.8       ,  170.        ]])"
      ]
     },
     "execution_count": 4,
     "metadata": {},
     "output_type": "execute_result"
    }
   ],
   "source": [
    "data = np.loadtxt(\"./NewWeather.csv.gz\", delimiter = ',')\n",
    "data"
   ]
  },
  {
   "cell_type": "code",
   "execution_count": 5,
   "metadata": {},
   "outputs": [],
   "source": [
    "# Slicing\n",
    "date = data[:,0]\n",
    "temp = data[:,2]"
   ]
  },
  {
   "cell_type": "code",
   "execution_count": 6,
   "metadata": {},
   "outputs": [
    {
     "data": {
      "text/plain": [
       "Text(0.5, 1.0, 'Temperature measurements')"
      ]
     },
     "execution_count": 6,
     "metadata": {},
     "output_type": "execute_result"
    },
    {
     "data": {
      "image/png": "[encoded data removed]",
      "text/plain": [
       "<Figure size 432x288 with 1 Axes>"
      ]
     },
     "metadata": {
      "needs_background": "light"
     },
     "output_type": "display_data"
    }
   ],
   "source": [
    "#Plot of raw temperature measurements\n",
    "fig, ax = plt.subplots()\n",
    "\n",
    "ax.scatter(date, temp, marker = '.', c = 'r', s = 5)\n",
    "ax.set_xlabel('Date')\n",
    "ax.set_ylabel('Temperature')\n",
    "ax.set_title('Temperature measurements')"
   ]
  },
  {
   "cell_type": "markdown",
   "metadata": {},
   "source": [
    "\n",
    "**6.2** As you saw at the end of the first task, the data set has a gap (~2010-2019) and therefore the line plot looks a bit strange. Correct the line plot so that the gap can be seen as a gap and is not connected!\n",
    "\n",
    "**Notes:**\n",
    " - it should be clear that you can't do this in **one** line plot, but you can split the data into two halves and then plot them with the same colour (colour doesn't matter)\n",
    " - think about suitable masks for splitting (in this case of gaps, the boundaries do not have to be exact, why?)"
   ]
  },
  {
   "cell_type": "code",
   "execution_count": 7,
   "metadata": {},
   "outputs": [],
   "source": [
    "temp_corr_mask = temp > -100\n",
    "\n",
    "date_c = date[temp_corr_mask]\n",
    "temp_c = temp[temp_corr_mask]\n",
    "\n",
    "#Plot"
   ]
  },
  {
   "cell_type": "code",
   "execution_count": 8,
   "metadata": {},
   "outputs": [
    {
     "name": "stdout",
     "output_type": "stream",
     "text": [
      "[1.89000002e-06 1.89999992e-06 1.90000014e-06 ... 0.00000000e+00\n",
      " 1.89000002e-06 0.00000000e+00]\n",
      "522356\n"
     ]
    }
   ],
   "source": [
    "intervals = np.diff(date_c)\n",
    "print(intervals)\n",
    "print(np.argmax(intervals))"
   ]
  },
  {
   "cell_type": "code",
   "execution_count": 9,
   "metadata": {},
   "outputs": [],
   "source": [
    "date_p1 = date_c[:(np.argmax(intervals)+1)]\n",
    "temp_p1 = temp_c[:(np.argmax(intervals)+1)]\n",
    "\n",
    "date_p2 = date_c[(np.argmax(intervals)+1):]\n",
    "temp_p2 = temp_c[(np.argmax(intervals)+1):]\n",
    "#print(date_p2)"
   ]
  },
  {
   "cell_type": "code",
   "execution_count": 10,
   "metadata": {},
   "outputs": [
    {
     "data": {
      "text/plain": [
       "Text(0.5, 1.0, 'Temperature measurements')"
      ]
     },
     "execution_count": 10,
     "metadata": {},
     "output_type": "execute_result"
    },
    {
     "data": {
      "image/png": "[encoded data removed]",
      "text/plain": [
       "<Figure size 432x288 with 1 Axes>"
      ]
     },
     "metadata": {
      "needs_background": "light"
     },
     "output_type": "display_data"
    }
   ],
   "source": [
    "#Plot of raw temperature measurements\n",
    "fig, ax = plt.subplots()\n",
    "\n",
    "ax.scatter(date_p1, temp_p1, marker = '.', c = 'r', s = 5)\n",
    "ax.scatter(date_p2, temp_p2, marker = '.', c = 'r', s = 5)\n",
    "ax.set_xlabel('Date')\n",
    "ax.set_ylabel('Temperature')\n",
    "ax.set_title('Temperature measurements')"
   ]
  },
  {
   "cell_type": "markdown",
   "metadata": {},
   "source": [
    "\n",
    "**6.3** Of course, it is not so meaningful if you display all the data together, but as you have seen, you can at least visually assess the data. Annika would now like to concentrate specifically on the year 2003 (her year of birth). To do this, write an `extract_data_year` that returns the filtered data as arrays. Use the desired year and the two arrays for the days and temperatures as transfer arguments. Only plot the data for 2003!\n",
    "\n",
    "**Note:**\n",
    " * You can use the year fractions for the x-axis, a conversion to months/days is not useful here.\n",
    " * splitting into 2 data sets is not necessary here, as we are analysing a continuous area with 2003"
   ]
  },
  {
   "cell_type": "code",
   "execution_count": 38,
   "metadata": {},
   "outputs": [],
   "source": [
    "def extrac_data_year(year, time_data , temp_data):\n",
    "    '''\n",
    "    This function filters the data of a given year \n",
    "    \n",
    "    @param year(float): year of interest\n",
    "    @param time_data(array): time stamps of the data\n",
    "    @param temp_data(array): temperature measurements\n",
    "    \n",
    "    return extracted_data: a 2D np array, with [0][i] the i-th\n",
    "    timestamps and [1][j] the j-th temperature data\n",
    "    '''\n",
    "    \n",
    "    mask = (time_data >= year) & (time_data < (year+1))\n",
    "    time = time_data[mask]\n",
    "    temp = temp_data[mask]\n",
    "    \n",
    "    extracted_data = np.array([time,temp])\n",
    "\n",
    "    return extracted_data"
   ]
  },
  {
   "cell_type": "code",
   "execution_count": null,
   "metadata": {},
   "outputs": [],
   "source": []
  },
  {
   "cell_type": "code",
   "execution_count": 39,
   "metadata": {},
   "outputs": [],
   "source": [
    "year2003_data = extrac_data_year(2003.0, date_c, temp_c)"
   ]
  },
  {
   "cell_type": "code",
   "execution_count": 40,
   "metadata": {},
   "outputs": [
    {
     "data": {
      "text/plain": [
       "Text(0.5, 1.0, 'Temperature measurements')"
      ]
     },
     "execution_count": 40,
     "metadata": {},
     "output_type": "execute_result"
    },
    {
     "data": {
      "image/png": "[encoded data removed]",
      "text/plain": [
       "<Figure size 432x288 with 1 Axes>"
      ]
     },
     "metadata": {
      "needs_background": "light"
     },
     "output_type": "display_data"
    }
   ],
   "source": [
    "#Plot of raw temperature measurements\n",
    "fig, ax = plt.subplots()\n",
    "\n",
    "ax.scatter(year2003_data[0], year2003_data[1], marker = '.', c = 'r', s = 5)\n",
    "ax.set_xlabel('Date')\n",
    "ax.set_ylabel('Temperature')\n",
    "ax.set_title('Temperature measurements')"
   ]
  },
  {
   "cell_type": "markdown",
   "metadata": {},
   "source": [
    "\n",
    "**6.4** With this information, Annika can also do some statistics for all months of 2003.\n",
    "To do this, you should calculate a mean value and the standard deviation for each month and display these in an error plot (`ax.errorbar(...)`),\n",
    "in which the variance is used as the error in $y$.\n",
    "Write another function `extract_data_month` which extracts the data for the corresponding month from the arrays for the days and temperatures and a specified month from $0\\ldots11$ (January to December).\n",
    "\n",
    "**Note:**\n",
    "\n",
    " * Create two new arrays for the results! The function `np.zeros(5, dtype=np.float64)` is helpful here, e.g. to create an array with 5 values, each of which is 0.\n",
    " * To calculate the mean and variance of an array $x$, use the functions `x.mean()` and `x.std()`.\n",
    " * To mask the individual months, you can extract the year fraction from the date using the modulo operator. Each month should simply be a $\\frac{1}{12}$ of the year, i.e. all months should be the same length. Take a look at the following example:"
   ]
  },
  {
   "cell_type": "code",
   "execution_count": 78,
   "metadata": {},
   "outputs": [
    {
     "name": "stdout",
     "output_type": "stream",
     "text": [
      "0.00022768666665721563\n",
      "4775.454545454545\n",
      "52530\n"
     ]
    }
   ],
   "source": [
    "time_data= year2003_data[0]\n",
    "temp_data = year2003_data[1]\n",
    "year = 2003.0\n",
    "\n",
    "month_frac = (time_data[0]-year)/12\n",
    "print(month_frac)\n",
    "\n",
    "print(len(time_data)/n_data_to_mask)\n",
    "print(len(time_data))"
   ]
  },
  {
   "cell_type": "code",
   "execution_count": 79,
   "metadata": {},
   "outputs": [
    {
     "ename": "SyntaxError",
     "evalue": "invalid syntax (Temp/ipykernel_21800/4104600214.py, line 6)",
     "output_type": "error",
     "traceback": [
      "\u001b[1;36m  File \u001b[1;32m\"C:\\Users\\coki1\\AppData\\Local\\Temp/ipykernel_21800/4104600214.py\"\u001b[1;36m, line \u001b[1;32m6\u001b[0m\n\u001b[1;33m    mask.append(time_data <  )\u001b[0m\n\u001b[1;37m                             ^\u001b[0m\n\u001b[1;31mSyntaxError\u001b[0m\u001b[1;31m:\u001b[0m invalid syntax\n"
     ]
    }
   ],
   "source": [
    "months = np.arange(12)\n",
    "\n",
    "mask = []\n",
    "for month in months: \n",
    "    sep = (time_data) % (month_frac*month) == 0.0\n",
    "    mask.append(time_data <  )\n",
    "\n",
    "    \n",
    "    \n",
    "print(mask)"
   ]
  },
  {
   "cell_type": "code",
   "execution_count": 53,
   "metadata": {},
   "outputs": [],
   "source": [
    "def extrac_data_month(time_data , temp_data):\n",
    "    '''\n",
    "    This function filters the data of a given month (0 to 11) \n",
    "    \n",
    "    @param year(float): year of interest\n",
    "    @param time_data(array): time stamps of the data\n",
    "    @param temp_data(array): temperature measurements\n",
    "    \n",
    "    return extracted_data: a 2D np array, with [0] \n",
    "    timestamps and [1] the temperature data\n",
    "    '''\n",
    "    masks = []\n",
    "    for i in np.arange(12):\n",
    "        \n",
    "    mask = (time_data >= mont) & (time_data < (month+1))\n",
    "    time = time_data[mask]\n",
    "    temp = temp_data[mask]\n",
    "    \n",
    "    extracted_data = np.array([time,temp])\n",
    "    \n",
    "    return extracted_data"
   ]
  },
  {
   "cell_type": "code",
   "execution_count": null,
   "metadata": {},
   "outputs": [],
   "source": []
  },
  {
   "cell_type": "code",
   "execution_count": null,
   "metadata": {},
   "outputs": [],
   "source": [
    "#Plot of raw temperature measurements\n",
    "fig, ax = plt.subplots()\n",
    "\n",
    "ax.scatter(year2003_data[0], year2003_data[1], marker = '.', c = 'r', s = 5)\n",
    "ax.set_xlabel('Date')\n",
    "ax.set_ylabel('Temperature')\n",
    "ax.set_title('Temperature measurements')"
   ]
  }
 ],
 "metadata": {
  "celltoolbar": "Create Assignment",
  "kernelspec": {
   "display_name": "Python 3 (ipykernel)",
   "language": "python",
   "name": "python3"
  },
  "language_info": {
   "codemirror_mode": {
    "name": "ipython",
    "version": 3
   },
   "file_extension": ".py",
   "mimetype": "text/x-python",
   "name": "python",
   "nbconvert_exporter": "python",
   "pygments_lexer": "ipython3",
   "version": "3.9.7"
  }
 },
 "nbformat": 4,
 "nbformat_minor": 4
}
