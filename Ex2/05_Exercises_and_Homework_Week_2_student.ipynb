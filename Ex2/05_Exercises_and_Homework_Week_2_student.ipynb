{
 "cells": [
  {
   "cell_type": "markdown",
   "metadata": {
    "nbgrader": {
     "grade": false,
     "grade_id": "cell-515e01b25bda86a9",
     "locked": true,
     "schema_version": 3,
     "solution": false,
     "task": false
    }
   },
   "source": [
    "# Exercises and Homework for week 2"
   ]
  },
  {
   "cell_type": "markdown",
   "metadata": {
    "nbgrader": {
     "grade": false,
     "grade_id": "cell-14ca577e70096fbf",
     "locked": true,
     "schema_version": 3,
     "solution": false,
     "task": false
    }
   },
   "source": [
    "## physics725: Scientific Programming with Python (SS 2025)\n",
    "Matthias Schott & Thomas Erben"
   ]
  },
  {
   "cell_type": "markdown",
   "metadata": {
    "nbgrader": {
     "grade": false,
     "grade_id": "cell-58e8949e2e41603c",
     "locked": true,
     "schema_version": 3,
     "solution": false,
     "task": false
    }
   },
   "source": [
    "Homework is due on **Thursday, 01/05/2025, 11:55pm**\n",
    "\n",
    " * You only learn a programming language by actively praticing and using it! We therefore **strongly** advise you to work on the homework problems.\n",
    " * Please discuss the problems with your student peers and with your tutor.\n",
    " * Your code(s) need(s) to be well and appropriately commented!\n",
    " * Submit your homework. Please ask your tutor if you do not know how to do it. **Please only submit one solution per homework group!**\n",
    "\n",
    "**Topics of this exercise:**\n",
    " * Scalar data types in Python *int*, *float* and *bool*\n",
    " * Control structures *if* and *while*\n",
    " * Floating poing accuracy\n",
    " * Implementation and analysis of simple algorithms"
   ]
  },
  {
   "cell_type": "markdown",
   "metadata": {},
   "source": [
    "# 1. Lecture review (0 points)"
   ]
  },
  {
   "cell_type": "markdown",
   "metadata": {},
   "source": [
    "If you did the lecture review questions [04_Lecture_Review.ipynb](04_Lecture_Review.ipynb) (strongly recommended!): \n",
    "Please discuss with your tutor and your group any issues/problems you had with them."
   ]
  },
  {
   "cell_type": "markdown",
   "metadata": {
    "tags": []
   },
   "source": [
    "# 2. Machine epsilon (5 points)\n",
    "In class we talked about inaccuracies that occur in a computer when performing operations with floating-point numbers. An important value to quantify floating-point accuracy is the *machine epsilon*. Please have a look at the [Wikipedia article on the machine epsilon](https://en.wikipedia.org/wiki/Machine_epsilon) to learn more about it. \n",
    "\n",
    "The *machine epsilon* is defined as the smallest number $\\epsilon_m$ such that $1.0 + \\epsilon_m > 1.0$. According to the Wikipedia article, the machine epsilon of your programming language can be estimated up to a factor of two with the algorithm:\n",
    "\n",
    "```\n",
    "epsilon_m = 1.0;\n",
    "\n",
    "while (1.0 + 0.5 * epsilon_m) > 1.0:\n",
    "    epsilon_m = 0.5 * epsilon_m\n",
    "\n",
    "```\n",
    "Use this algorithm to determine the *machine epsilon* of the Python-float type. Which float-type is used in Python (see the table of the Wikipedia article)?"
   ]
  },
  {
   "cell_type": "code",
   "execution_count": null,
   "metadata": {},
   "outputs": [],
   "source": [
    "# Your solution here please"
   ]
  },
  {
   "cell_type": "markdown",
   "metadata": {},
   "source": [
    "# 3. Test of natural numbers for the prime property (10 points)"
   ]
  },
  {
   "cell_type": "markdown",
   "metadata": {},
   "source": [
    "In the following, we want to develop a program to test positive integer numbers for the prime property. A positive integer larger than 1 is a prime if it cannot be formed by multiplying two smaller natural numbers. \n",
    "\n",
    "The student Lydia Leibnitz proposes the following algorithm for the task:\n",
    "1. We are given a natural number $n$ that we want to test\n",
    "2. In a loop, we test whether `n % m == 0` for all natural numbers $m$ with $2\\leq m < \\sqrt{n}$\n",
    "3. If the test (2) is `True` for any of the tested $m$, then $n$ is not prime. Otherwise, we have a prime number.\n",
    "\n",
    "Lydia gives the following proof for the correctness of her algorithm:\n",
    "Divisors of $n$ come in pairs and say $n = ab$. Then **exactly one** of the two follwing possibilities can be true:\n",
    "1. $a < \\sqrt{n} \\text{ and } b > \\sqrt{n}$\n",
    "2. $a > \\sqrt{n} \\text{ and } b < \\sqrt{n}$\n",
    "\n",
    "To see this, we assume $a< \\sqrt{n} \\text{ and } b < \\sqrt{n}$. Then follows $n = ab < \\sqrt{n}\\sqrt{n} < n$ which leads to the contradiction $n<n$! Similarily, we conclude that not both, $a$ and $b$ can be larger than $\\sqrt{n}$. It follows that one of the divisors of $n$ must be smaller than $\\sqrt{n}$ and we only need to test $2\\leq m < \\sqrt{n}$ to check whether $n$ is a prime.\n",
    "\n",
    "Your tasks:\n",
    "1. Implement Lydias algorithm to test a given number $n$ for the prime property. Your program should report with a text-message, which number is tested and whether it is a prime or not.\n",
    "2. Test your program with the numbers 8, 105, 177, 51, 5, 47, 199 and 967. Your program should report the last four numbers as primes and the others as non-prime.\n",
    "3. Embed your test in a loop and consider systematically all numbers $2\\leq n \\leq 100$ for the prime property. What do you observe?\n",
    "4. (3.) should show you that your program does not work as expected! Find the underlying algorithmic problem and correct your program! Document within your notebook or script what the problem is!\n",
    "\n",
    "**Hint:** In the past, many students *did not find any problem* with their implemented algorithm. In that case, your first issue is that you did **not** implement the algorithm described above."
   ]
  },
  {
   "cell_type": "code",
   "execution_count": null,
   "metadata": {
    "tags": []
   },
   "outputs": [],
   "source": [
    "# your solution here"
   ]
  },
  {
   "cell_type": "markdown",
   "metadata": {
    "nbgrader": {
     "grade": false,
     "grade_id": "cell-5c20b7824c889804",
     "locked": true,
     "schema_version": 3,
     "solution": false,
     "task": false
    }
   },
   "source": [
    "# 4. Problems with an integral series (15 points)"
   ]
  },
  {
   "cell_type": "markdown",
   "metadata": {
    "nbgrader": {
     "grade": false,
     "grade_id": "cell-637b4ff9e037754d",
     "locked": true,
     "schema_version": 3,
     "solution": false,
     "task": false
    }
   },
   "source": [
    "Consider the sequence\n",
    "$$\n",
    "I_n=\\int_0^1 \\frac{x^{n}}{x+10}\\,\\mathrm{d}x; \\qquad n=1,2,\\dots\n",
    "$$\n",
    "We observe that\n",
    "\n",
    "\\begin{equation}\n",
    "I_n + 10I_{n-1} = \\int_0^1 \\frac{x^{n}+10x^{n-1}}{x+10}\\,\\mathrm{d}x =\n",
    "\\int_0^1 x^{n-1}\\,\\mathrm{d}x = \\frac 1n \\label{eq1}\\tag{1}.\n",
    "\\end{equation}\n",
    "\n",
    "This allows us to obtain $I_n$ with the following recurrence relation: \n",
    "\n",
    "\\begin{equation}\n",
    "I_n = \\frac 1n - 10I_{n-1} \\text{ with } \n",
    "I_0 = \\int_0^1 \\frac{1}{x+10}\\,\\mathrm{d}x = \\ln(11/10)\\approx 0.09531. \\label{eq2}\\tag{2}\n",
    "\\end{equation}\n",
    "\n",
    "One can show that the whole sequence converges to zero: $\\lim_{n\\to\\infty}I_n=0$. \n",
    "\n",
    "We want to numerically estimate $I_{20}$ by using eqs. \\ref{eq1} and \\ref{eq2} and we will calculate and print the first 20 elements of the series in a `while`-loop. \n",
    "\n",
    "There is a second, independent estimate of $I_{20}$ if we revert the first relation from eq. \\ref{eq2}:\n",
    "\\begin{equation}\n",
    "  I_{n-1} = \\frac 1{10}\\left(\\frac 1n -I_{n}\\right) \\text{ with } I_{50} = 0.\\label{eq3}\\tag{3}\n",
    "\\end{equation}\n",
    "This relation allows us to estimate $I_{50}, I_{49}, \\dots, I_{20}$.\n",
    "\n",
    "**Your tasks:**\n",
    "\n",
    "Perform the two experiments with the forward and with the reverse relation and argue which one of the results you trust. Please explain your observations.\n",
    "\n",
    "**Hints:** \n",
    " * Assume for the first case (forward relation) that $I_0$ is represented internally as a float number with an error, i.e. $I_0 = \\ln(11/10) + \\epsilon$, where $\\epsilon$ is the error. We know that $\\epsilon\\approx 10^{-18}$ for `Python` float numbers. What happens with $\\epsilon$ when you calculate new elements of the series? \n",
    " * for the logarithm you can use the numpy module with ```import numpy``` and use the defined function ```numpy.log(x)``` to obtain $\\ln(x)$!"
   ]
  },
  {
   "cell_type": "code",
   "execution_count": null,
   "metadata": {},
   "outputs": [],
   "source": [
    "# Your solution with the forward relation from eq. (2)"
   ]
  },
  {
   "cell_type": "code",
   "execution_count": null,
   "metadata": {},
   "outputs": [],
   "source": [
    "# Your solution with the reverse relation from eq. (3)"
   ]
  },
  {
   "cell_type": "markdown",
   "metadata": {},
   "source": [
    "Discussion of results here please"
   ]
  },
  {
   "cell_type": "markdown",
   "metadata": {},
   "source": [
    "# 5. Another numerical estimate for the square-root of a positive number (20 points)"
   ]
  },
  {
   "cell_type": "markdown",
   "metadata": {},
   "source": [
    "in class, I showed you an algorithm to estimate the square root of a number. Here is another one:\n",
    "\n",
    "*We want to estimate the square root of a positive number $x$. We start with an arbitrary number $y_0>0$ and calculate the sequence $y_{n+1}=\\frac 12\\left(y_n+\\frac{x}{y_n}\\right)$. The sequence converges to $\\sqrt{x}$, i.e. $\\lim_{n\\to\\infty}y_n=\\sqrt{x}$*.\n",
    "\n",
    "Your tasks:\n",
    "\n",
    "1. Implement the algorithm in a Python-program. Start with $y_0=1$ and calculate the $y_i$ in a `while`-loop. Finish the loop when $|y_{n+1}-y_n| < \\epsilon$ with $\\epsilon=10^{-6}$. Consider $y_{n+1}$ as your estimate for $\\sqrt{x}$ and print $y_{n+1}$ and $y_{n+1}^2$ (the latter is a test for your estimate!).\n",
    "\n",
    "    **Hint:**\n",
    "\n",
    "    A function to obtain the absolute value of a float-number is `numpy.fabs`.\n",
    "\n",
    "2. Test your program with $x\\in \\{2, 5, 11, 49, 111, 225\\}$ and verify that the estimated square roots meet your expectations.\n",
    "\n",
    "3. If we have available several algorithms for the same task, we would like to learn about the strengths and weaknesses of each (accuracy, reliability, robustness, performance). We would like to compare the lecture algorithm to the new one and verify whether one can estimate the square root more efficiently (with less iterations) than the other.\n",
    "\n",
    "    1. Run both algorithms to estimate square roots of different numbers up to a given accuracy $\\epsilon$ as defined in the algorithms. Print the number of iterations that each algorithm needs to reach the required $\\epsilon$. Please repeat the exercise for several values of $\\epsilon$. What do you observe?\n",
    "    2. Modify your codes to print in each iteration $n$ of the square-root estimation:\n",
    "         1. The values $\\epsilon_{n}$ and $\\epsilon_{n} / \\epsilon_{n-1}$ for the lecture algorithm. $\\epsilon_{n}$ is the estimate of $\\epsilon$ for iteration $n$ and  $\\epsilon_{n-1}$ the corresponding value for iteration $n-1$.\n",
    "         2. The values $\\epsilon_{n}$ and $\\epsilon_{n} / \\epsilon_{n-1}^{2}$ for the homework algorithm.\n",
    "    3. Describe your observations of 3(A) and 3(B). What do they mean for the convergence speed of the two algorithms."
   ]
  },
  {
   "cell_type": "code",
   "execution_count": null,
   "metadata": {},
   "outputs": [],
   "source": [
    "# your solutions here please"
   ]
  },
  {
   "cell_type": "code",
   "execution_count": null,
   "metadata": {},
   "outputs": [],
   "source": []
  }
 ],
 "metadata": {
  "celltoolbar": "Create Assignment",
  "kernelspec": {
   "display_name": "Python 3 (ipykernel)",
   "language": "python",
   "name": "python3"
  },
  "language_info": {
   "codemirror_mode": {
    "name": "ipython",
    "version": 3
   },
   "file_extension": ".py",
   "mimetype": "text/x-python",
   "name": "python",
   "nbconvert_exporter": "python",
   "pygments_lexer": "ipython3",
   "version": "3.12.7"
  }
 },
 "nbformat": 4,
 "nbformat_minor": 4
}
