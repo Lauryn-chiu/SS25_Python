{
 "cells": [
  {
   "cell_type": "markdown",
   "metadata": {
    "nbgrader": {
     "grade": false,
     "grade_id": "cell-515e01b25bda86a9",
     "locked": true,
     "schema_version": 3,
     "solution": false,
     "task": false
    }
   },
   "source": [
    "# Exercises and Homework for week 2"
   ]
  },
  {
   "cell_type": "markdown",
   "metadata": {
    "nbgrader": {
     "grade": false,
     "grade_id": "cell-14ca577e70096fbf",
     "locked": true,
     "schema_version": 3,
     "solution": false,
     "task": false
    }
   },
   "source": [
    "## physics725: Scientific Programming with Python (SS 2025)\n",
    "Matthias Schott & Thomas Erben"
   ]
  },
  {
   "cell_type": "markdown",
   "metadata": {
    "nbgrader": {
     "grade": false,
     "grade_id": "cell-58e8949e2e41603c",
     "locked": true,
     "schema_version": 3,
     "solution": false,
     "task": false
    }
   },
   "source": [
    "Homework is due on **Thursday, 01/05/2025, 11:55pm**\n",
    "\n",
    " * You only learn a programming language by actively praticing and using it! We therefore **strongly** advise you to work on the homework problems.\n",
    " * Please discuss the problems with your student peers and with your tutor.\n",
    " * Your code(s) need(s) to be well and appropriately commented!\n",
    " * Submit your homework. Please ask your tutor if you do not know how to do it. **Please only submit one solution per homework group!**\n",
    "\n",
    "**Topics of this exercise:**\n",
    " * Scalar data types in Python *int*, *float* and *bool*\n",
    " * Control structures *if* and *while*\n",
    " * Floating poing accuracy\n",
    " * Implementation and analysis of simple algorithms"
   ]
  },
  {
   "cell_type": "markdown",
   "metadata": {},
   "source": [
    "# 1. Lecture review (0 points)"
   ]
  },
  {
   "cell_type": "markdown",
   "metadata": {},
   "source": [
    "If you did the lecture review questions [04_Lecture_Review.ipynb](04_Lecture_Review.ipynb) (strongly recommended!): \n",
    "Please discuss with your tutor and your group any issues/problems you had with them."
   ]
  },
  {
   "cell_type": "markdown",
   "metadata": {
    "tags": []
   },
   "source": [
    "# 2. Machine epsilon (5 points)\n",
    "In class we talked about inaccuracies that occur in a computer when performing operations with floating-point numbers. An important value to quantify floating-point accuracy is the *machine epsilon*. Please have a look at the [Wikipedia article on the machine epsilon](https://en.wikipedia.org/wiki/Machine_epsilon) to learn more about it. \n",
    "\n",
    "The *machine epsilon* is defined as the smallest number $\\epsilon_m$ such that $1.0 + \\epsilon_m > 1.0$. According to the Wikipedia article, the machine epsilon of your programming language can be estimated up to a factor of two with the algorithm:\n",
    "\n",
    "```\n",
    "epsilon_m = 1.0;\n",
    "\n",
    "while (1.0 + 0.5 * epsilon_m) > 1.0:\n",
    "    epsilon_m = 0.5 * epsilon_m\n",
    "\n",
    "```\n",
    "Use this algorithm to determine the *machine epsilon* of the Python-float type. Which float-type is used in Python (see the table of the Wikipedia article)?"
   ]
  },
  {
   "cell_type": "code",
   "execution_count": 87,
   "metadata": {
    "tags": []
   },
   "outputs": [],
   "source": [
    "import numpy as np\n",
    "import sys"
   ]
  },
  {
   "cell_type": "code",
   "execution_count": 2,
   "metadata": {},
   "outputs": [
    {
     "name": "stdout",
     "output_type": "stream",
     "text": [
      "2.220446049250313e-16\n"
     ]
    }
   ],
   "source": [
    "epsilon_m = 1.0;\n",
    "\n",
    "while (1.0 + 0.5 * epsilon_m) > 1.0:\n",
    "    epsilon_m = 0.5 * epsilon_m\n",
    "    \n",
    "print(epsilon_m)"
   ]
  },
  {
   "cell_type": "markdown",
   "metadata": {},
   "source": [
    "> binary64"
   ]
  },
  {
   "cell_type": "markdown",
   "metadata": {},
   "source": [
    "# 3. Test of natural numbers for the prime property (10 points)"
   ]
  },
  {
   "cell_type": "markdown",
   "metadata": {},
   "source": [
    "In the following, we want to develop a program to test positive integer numbers for the prime property. A positive integer larger than 1 is a prime if it cannot be formed by multiplying two smaller natural numbers. \n",
    "\n",
    "The student Lydia Leibnitz proposes the following algorithm for the task:\n",
    "1. We are given a natural number $n$ that we want to test\n",
    "2. In a loop, we test whether `n % m == 0` for all natural numbers $m$ with $2\\leq m < \\sqrt{n}$\n",
    "3. If the test (2) is `True` for any of the tested $m$, then $n$ is not prime. Otherwise, we have a prime number.\n",
    "\n",
    "Lydia gives the following proof for the correctness of her algorithm:\n",
    "Divisors of $n$ come in pairs and say $n = ab$. Then **exactly one** of the two follwing possibilities can be true:\n",
    "1. $a < \\sqrt{n} \\text{ and } b > \\sqrt{n}$\n",
    "2. $a > \\sqrt{n} \\text{ and } b < \\sqrt{n}$\n",
    "\n",
    "To see this, we assume $a< \\sqrt{n} \\text{ and } b < \\sqrt{n}$. Then follows $n = ab < \\sqrt{n}\\sqrt{n} < n$ which leads to the contradiction $n<n$! Similarily, we conclude that not both, $a$ and $b$ can be larger than $\\sqrt{n}$. It follows that one of the divisors of $n$ must be smaller than $\\sqrt{n}$ and we only need to test $2\\leq m < \\sqrt{n}$ to check whether $n$ is a prime.\n",
    "\n",
    "Your tasks:\n",
    "1. Implement Lydias algorithm to test a given number $n$ for the prime property. Your program should report with a text-message, which number is tested and whether it is a prime or not.\n",
    "2. Test your program with the numbers 8, 105, 177, 51, 5, 47, 199 and 967. Your program should report the last four numbers as primes and the others as non-prime.\n",
    "3. Embed your test in a loop and consider systematically all numbers $2\\leq n \\leq 100$ for the prime property. What do you observe?\n",
    "4. (3.) should show you that your program does not work as expected! Find the underlying algorithmic problem and correct your program! Document within your notebook or script what the problem is!\n",
    "\n",
    "**Hint:** In the past, many students *did not find any problem* with their implemented algorithm. In that case, your first issue is that you did **not** implement the algorithm described above."
   ]
  },
  {
   "cell_type": "code",
   "execution_count": 32,
   "metadata": {
    "tags": []
   },
   "outputs": [],
   "source": [
    "def test_prime(n):\n",
    "    \n",
    "    m = 2\n",
    "    \n",
    "    if n <= 1:\n",
    "        return \"error: number input is not in out discussion range. please input positive integer larger than 1.\"\n",
    "    else:\n",
    "        if np.sqrt(n) < 2: # positive number 2 and 3\n",
    "            return \"number {} is a prime.\".format(n)\n",
    "        else:\n",
    "            while (m >= 2) and (m <= np.sqrt(n)): # positive number >= 4\n",
    "                if n % m != 0:\n",
    "                    m = m + 1\n",
    "                    if m > np.sqrt(n):\n",
    "                        return \"number {} is a prime.\".format(n)\n",
    "                else:\n",
    "                    return \"number {} is non-prime, and it is product of integer number {} and {}.\".format(n, m, int(n/m))\n",
    "                    break\n"
   ]
  },
  {
   "cell_type": "code",
   "execution_count": 33,
   "metadata": {
    "tags": []
   },
   "outputs": [
    {
     "data": {
      "text/plain": [
       "('number 8 is non-prime, and it is product of integer number 2 and 4.',\n",
       " 'number 105 is non-prime, and it is product of integer number 3 and 35.',\n",
       " 'number 177 is non-prime, and it is product of integer number 3 and 59.',\n",
       " 'number 51 is non-prime, and it is product of integer number 3 and 17.',\n",
       " 'number 5 is a prime.',\n",
       " 'number 47 is a prime.',\n",
       " 'number 199 is a prime.',\n",
       " 'number 967 is a prime.')"
      ]
     },
     "execution_count": 33,
     "metadata": {},
     "output_type": "execute_result"
    }
   ],
   "source": [
    "test_prime(8), test_prime(105), test_prime(177), test_prime(51), test_prime(5), test_prime(47), test_prime(199), test_prime(967)"
   ]
  },
  {
   "cell_type": "code",
   "execution_count": 34,
   "metadata": {
    "tags": []
   },
   "outputs": [
    {
     "name": "stdout",
     "output_type": "stream",
     "text": [
      "number 2 is a prime.\n",
      "number 3 is a prime.\n",
      "number 4 is non-prime, and it is product of integer number 2 and 2.\n",
      "number 5 is a prime.\n",
      "number 6 is non-prime, and it is product of integer number 2 and 3.\n",
      "number 7 is a prime.\n",
      "number 8 is non-prime, and it is product of integer number 2 and 4.\n",
      "number 9 is non-prime, and it is product of integer number 3 and 3.\n",
      "number 10 is non-prime, and it is product of integer number 2 and 5.\n",
      "number 11 is a prime.\n",
      "number 12 is non-prime, and it is product of integer number 2 and 6.\n",
      "number 13 is a prime.\n",
      "number 14 is non-prime, and it is product of integer number 2 and 7.\n",
      "number 15 is non-prime, and it is product of integer number 3 and 5.\n",
      "number 16 is non-prime, and it is product of integer number 2 and 8.\n",
      "number 17 is a prime.\n",
      "number 18 is non-prime, and it is product of integer number 2 and 9.\n",
      "number 19 is a prime.\n",
      "number 20 is non-prime, and it is product of integer number 2 and 10.\n",
      "number 21 is non-prime, and it is product of integer number 3 and 7.\n",
      "number 22 is non-prime, and it is product of integer number 2 and 11.\n",
      "number 23 is a prime.\n",
      "number 24 is non-prime, and it is product of integer number 2 and 12.\n",
      "number 25 is non-prime, and it is product of integer number 5 and 5.\n",
      "number 26 is non-prime, and it is product of integer number 2 and 13.\n",
      "number 27 is non-prime, and it is product of integer number 3 and 9.\n",
      "number 28 is non-prime, and it is product of integer number 2 and 14.\n",
      "number 29 is a prime.\n",
      "number 30 is non-prime, and it is product of integer number 2 and 15.\n",
      "number 31 is a prime.\n",
      "number 32 is non-prime, and it is product of integer number 2 and 16.\n",
      "number 33 is non-prime, and it is product of integer number 3 and 11.\n",
      "number 34 is non-prime, and it is product of integer number 2 and 17.\n",
      "number 35 is non-prime, and it is product of integer number 5 and 7.\n",
      "number 36 is non-prime, and it is product of integer number 2 and 18.\n",
      "number 37 is a prime.\n",
      "number 38 is non-prime, and it is product of integer number 2 and 19.\n",
      "number 39 is non-prime, and it is product of integer number 3 and 13.\n",
      "number 40 is non-prime, and it is product of integer number 2 and 20.\n",
      "number 41 is a prime.\n",
      "number 42 is non-prime, and it is product of integer number 2 and 21.\n",
      "number 43 is a prime.\n",
      "number 44 is non-prime, and it is product of integer number 2 and 22.\n",
      "number 45 is non-prime, and it is product of integer number 3 and 15.\n",
      "number 46 is non-prime, and it is product of integer number 2 and 23.\n",
      "number 47 is a prime.\n",
      "number 48 is non-prime, and it is product of integer number 2 and 24.\n",
      "number 49 is non-prime, and it is product of integer number 7 and 7.\n",
      "number 50 is non-prime, and it is product of integer number 2 and 25.\n",
      "number 51 is non-prime, and it is product of integer number 3 and 17.\n",
      "number 52 is non-prime, and it is product of integer number 2 and 26.\n",
      "number 53 is a prime.\n",
      "number 54 is non-prime, and it is product of integer number 2 and 27.\n",
      "number 55 is non-prime, and it is product of integer number 5 and 11.\n",
      "number 56 is non-prime, and it is product of integer number 2 and 28.\n",
      "number 57 is non-prime, and it is product of integer number 3 and 19.\n",
      "number 58 is non-prime, and it is product of integer number 2 and 29.\n",
      "number 59 is a prime.\n",
      "number 60 is non-prime, and it is product of integer number 2 and 30.\n",
      "number 61 is a prime.\n",
      "number 62 is non-prime, and it is product of integer number 2 and 31.\n",
      "number 63 is non-prime, and it is product of integer number 3 and 21.\n",
      "number 64 is non-prime, and it is product of integer number 2 and 32.\n",
      "number 65 is non-prime, and it is product of integer number 5 and 13.\n",
      "number 66 is non-prime, and it is product of integer number 2 and 33.\n",
      "number 67 is a prime.\n",
      "number 68 is non-prime, and it is product of integer number 2 and 34.\n",
      "number 69 is non-prime, and it is product of integer number 3 and 23.\n",
      "number 70 is non-prime, and it is product of integer number 2 and 35.\n",
      "number 71 is a prime.\n",
      "number 72 is non-prime, and it is product of integer number 2 and 36.\n",
      "number 73 is a prime.\n",
      "number 74 is non-prime, and it is product of integer number 2 and 37.\n",
      "number 75 is non-prime, and it is product of integer number 3 and 25.\n",
      "number 76 is non-prime, and it is product of integer number 2 and 38.\n",
      "number 77 is non-prime, and it is product of integer number 7 and 11.\n",
      "number 78 is non-prime, and it is product of integer number 2 and 39.\n",
      "number 79 is a prime.\n",
      "number 80 is non-prime, and it is product of integer number 2 and 40.\n",
      "number 81 is non-prime, and it is product of integer number 3 and 27.\n",
      "number 82 is non-prime, and it is product of integer number 2 and 41.\n",
      "number 83 is a prime.\n",
      "number 84 is non-prime, and it is product of integer number 2 and 42.\n",
      "number 85 is non-prime, and it is product of integer number 5 and 17.\n",
      "number 86 is non-prime, and it is product of integer number 2 and 43.\n",
      "number 87 is non-prime, and it is product of integer number 3 and 29.\n",
      "number 88 is non-prime, and it is product of integer number 2 and 44.\n",
      "number 89 is a prime.\n",
      "number 90 is non-prime, and it is product of integer number 2 and 45.\n",
      "number 91 is non-prime, and it is product of integer number 7 and 13.\n",
      "number 92 is non-prime, and it is product of integer number 2 and 46.\n",
      "number 93 is non-prime, and it is product of integer number 3 and 31.\n",
      "number 94 is non-prime, and it is product of integer number 2 and 47.\n",
      "number 95 is non-prime, and it is product of integer number 5 and 19.\n",
      "number 96 is non-prime, and it is product of integer number 2 and 48.\n",
      "number 97 is a prime.\n",
      "number 98 is non-prime, and it is product of integer number 2 and 49.\n",
      "number 99 is non-prime, and it is product of integer number 3 and 33.\n",
      "number 100 is non-prime, and it is product of integer number 2 and 50.\n"
     ]
    }
   ],
   "source": [
    "for i in np.arange(2, 101):\n",
    "    print(test_prime(i))"
   ]
  },
  {
   "cell_type": "markdown",
   "metadata": {},
   "source": [
    "> all prime numbers are odd.\n",
    "\n",
    "> change 2 $\\leq$ m < $\\sqrt{n}$ to 2 $\\leq$ m $\\leq \\sqrt{n}$, because some numbers (e.g. 9) are square of other positive integer.\n",
    "\n",
    "> 2 $\\leq$ m $\\leq \\sqrt{n}$ is valid for n $\\geq$ 4, and we need to consider positive integer 2 and 3 (which are primes) as well."
   ]
  },
  {
   "cell_type": "markdown",
   "metadata": {
    "nbgrader": {
     "grade": false,
     "grade_id": "cell-5c20b7824c889804",
     "locked": true,
     "schema_version": 3,
     "solution": false,
     "task": false
    }
   },
   "source": [
    "# 4. Problems with an integral series (15 points)"
   ]
  },
  {
   "cell_type": "markdown",
   "metadata": {
    "nbgrader": {
     "grade": false,
     "grade_id": "cell-637b4ff9e037754d",
     "locked": true,
     "schema_version": 3,
     "solution": false,
     "task": false
    }
   },
   "source": [
    "Consider the sequence\n",
    "$$\n",
    "I_n=\\int_0^1 \\frac{x^{n}}{x+10}\\,\\mathrm{d}x; \\qquad n=1,2,\\dots\n",
    "$$\n",
    "We observe that\n",
    "\n",
    "\\begin{equation}\n",
    "I_n + 10I_{n-1} = \\int_0^1 \\frac{x^{n}+10x^{n-1}}{x+10}\\,\\mathrm{d}x =\n",
    "\\int_0^1 x^{n-1}\\,\\mathrm{d}x = \\frac 1n \\label{eq1}\\tag{1}.\n",
    "\\end{equation}\n",
    "\n",
    "This allows us to obtain $I_n$ with the following recurrence relation: \n",
    "\n",
    "\\begin{equation}\n",
    "I_n = \\frac 1n - 10I_{n-1} \\text{ with } \n",
    "I_0 = \\int_0^1 \\frac{1}{x+10}\\,\\mathrm{d}x = \\ln(11/10)\\approx 0.09531. \\label{eq2}\\tag{2}\n",
    "\\end{equation}\n",
    "\n",
    "One can show that the whole sequence converges to zero: $\\lim_{n\\to\\infty}I_n=0$. \n",
    "\n",
    "We want to numerically estimate $I_{20}$ by using eqs. \\ref{eq1} and \\ref{eq2} and we will calculate and print the first 20 elements of the series in a `while`-loop. \n",
    "\n",
    "There is a second, independent estimate of $I_{20}$ if we revert the first relation from eq. \\ref{eq2}:\n",
    "\\begin{equation}\n",
    "  I_{n-1} = \\frac 1{10}\\left(\\frac 1n -I_{n}\\right) \\text{ with } I_{50} = 0.\\label{eq3}\\tag{3}\n",
    "\\end{equation}\n",
    "This relation allows us to estimate $I_{50}, I_{49}, \\dots, I_{20}$.\n",
    "\n",
    "**Your tasks:**\n",
    "\n",
    "Perform the two experiments with the forward and with the reverse relation and argue which one of the results you trust. Please explain your observations.\n",
    "\n",
    "**Hints:** \n",
    " * Assume for the first case (forward relation) that $I_0$ is represented internally as a float number with an error, i.e. $I_0 = \\ln(11/10) + \\epsilon$, where $\\epsilon$ is the error. We know that $\\epsilon\\approx 10^{-18}$ for `Python` float numbers. What happens with $\\epsilon$ when you calculate new elements of the series? \n",
    " * for the logarithm you can use the numpy module with ```import numpy``` and use the defined function ```numpy.log(x)``` to obtain $\\ln(x)$!"
   ]
  },
  {
   "cell_type": "code",
   "execution_count": 53,
   "metadata": {},
   "outputs": [
    {
     "name": "stdout",
     "output_type": "stream",
     "text": [
      "I_1=0.04689820195675065\n",
      "I_2=0.031017980432493486\n",
      "I_3=0.023153529008398455\n",
      "I_4=0.018464709916015454\n",
      "I_5=0.015352900839845474\n",
      "I_6=0.013137658268211921\n",
      "I_7=0.011480560175023635\n",
      "I_8=0.010194398249763648\n",
      "I_9=0.009167128613474629\n",
      "I_10=0.008328713865253717\n",
      "I_11=0.007621952256553738\n",
      "I_12=0.00711381076779595\n",
      "I_13=0.005784969245117427\n",
      "I_14=0.013578878977397152\n",
      "I_15=-0.06912212310730485\n",
      "I_16=0.7537212310730486\n",
      "I_17=-7.478388781318721\n",
      "I_18=74.83944336874276\n",
      "I_19=-748.3418021084802\n",
      "I_20=7483.468021084803\n"
     ]
    }
   ],
   "source": [
    "# forward relation from eq.(2)\n",
    "n = 1\n",
    "epsilon = 1e-18\n",
    "I_n0 = np.log(11/10) + epsilon\n",
    "\n",
    "while n <= 20:\n",
    "    I_n = 1/n - 10 * I_n0\n",
    "    print(\"I_{}={}\".format(n, I_n))\n",
    "    n += 1\n",
    "    I_n0 = I_n\n",
    "    "
   ]
  },
  {
   "cell_type": "code",
   "execution_count": null,
   "metadata": {},
   "outputs": [
    {
     "name": "stdout",
     "output_type": "stream",
     "text": [
      "I_50=0.0\n",
      "I_49=0.002\n",
      "I_48=0.0018408163265306123\n",
      "I_47=0.0018992517006802719\n",
      "I_46=0.001937734404400058\n",
      "I_45=0.001980139603038255\n",
      "I_44=0.002024208261918397\n",
      "I_43=0.0020703064465354333\n",
      "I_42=0.002118550750695294\n",
      "I_41=0.0021690973058828516\n",
      "I_40=0.0022221146596556173\n",
      "I_39=0.0022777885340344384\n",
      "I_38=0.00233632371069912\n",
      "I_37=0.002397946576298509\n",
      "I_36=0.002462908045072852\n",
      "I_35=0.0025314869732704927\n",
      "I_34=0.0026039941598158083\n",
      "I_33=0.0026807770546066548\n",
      "I_32=0.002762225324842365\n",
      "I_31=0.0028487774675157638\n",
      "I_30=0.002940928704861327\n",
      "I_29=0.0030392404628472006\n",
      "I_28=0.0031443518157842454\n",
      "I_27=0.003256993389850147\n",
      "I_26=0.0033780043647186893\n",
      "I_25=0.0035083534096819777\n",
      "I_24=0.003649164659031803\n",
      "I_23=0.003801750200763486\n",
      "I_22=0.003967651066880173\n",
      "I_21=0.004148689438766529\n",
      "I_20=0.004347035818028109\n"
     ]
    }
   ],
   "source": [
    "# reverse relation from eq. (3)\n",
    "\n",
    "n = 50\n",
    "I_n = 0.0\n",
    "\n",
    "while n >= 20:\n",
    "    I_n0 = (1/10) * (1/n - I_n)\n",
    "    print(\"I_{}={}\".format(n, I_n))\n",
    "    n -= 1\n",
    "    I_n = I_n0\n"
   ]
  },
  {
   "cell_type": "markdown",
   "metadata": {},
   "source": [
    "Discussion of results: we should trust the second approach. $I_n$ is expected to decrease with increasing n. The integrand $\\frac{x^n}{x+10}$ will be extremely small with large n when $x\\in[0,1]$, and thus the integral is expected to be small as well. In the first approach, $I_{14}$ starts to be larger than $I_{13}$ and then $I_n$ starts to fluctuate largely between positive and negative values, which does not make sense."
   ]
  },
  {
   "cell_type": "markdown",
   "metadata": {},
   "source": [
    "# 5. Another numerical estimate for the square-root of a positive number (20 points)"
   ]
  },
  {
   "cell_type": "markdown",
   "metadata": {},
   "source": [
    "in class, I showed you an algorithm to estimate the square root of a number. Here is another one:\n",
    "\n",
    "*We want to estimate the square root of a positive number $x$. We start with an arbitrary number $y_0>0$ and calculate the sequence $y_{n+1}=\\frac 12\\left(y_n+\\frac{x}{y_n}\\right)$. The sequence converges to $\\sqrt{x}$, i.e. $\\lim_{n\\to\\infty}y_n=\\sqrt{x}$*.\n",
    "\n",
    "Your tasks:\n",
    "\n",
    "1. Implement the algorithm in a Python-program. Start with $y_0=1$ and calculate the $y_i$ in a `while`-loop. Finish the loop when $|y_{n+1}-y_n| < \\epsilon$ with $\\epsilon=10^{-6}$. Consider $y_{n+1}$ as your estimate for $\\sqrt{x}$ and print $y_{n+1}$ and $y_{n+1}^2$ (the latter is a test for your estimate!).\n",
    "\n",
    "    **Hint:**\n",
    "\n",
    "    A function to obtain the absolute value of a float-number is `numpy.fabs`.\n",
    "\n",
    "2. Test your program with $x\\in \\{2, 5, 11, 49, 111, 225\\}$ and verify that the estimated square roots meet your expectations.\n",
    "\n",
    "3. If we have available several algorithms for the same task, we would like to learn about the strengths and weaknesses of each (accuracy, reliability, robustness, performance). We would like to compare the lecture algorithm to the new one and verify whether one can estimate the square root more efficiently (with less iterations) than the other.\n",
    "\n",
    "    1. Run both algorithms to estimate square roots of different numbers up to a given accuracy $\\epsilon$ as defined in the algorithms. Print the number of iterations that each algorithm needs to reach the required $\\epsilon$. Please repeat the exercise for several values of $\\epsilon$. What do you observe?\n",
    "    2. Modify your codes to print in each iteration $n$ of the square-root estimation:\n",
    "         1. The values $\\epsilon_{n}$ and $\\epsilon_{n} / \\epsilon_{n-1}$ for the lecture algorithm. $\\epsilon_{n}$ is the estimate of $\\epsilon$ for iteration $n$ and  $\\epsilon_{n-1}$ the corresponding value for iteration $n-1$.\n",
    "         2. The values $\\epsilon_{n}$ and $\\epsilon_{n} / \\epsilon_{n-1}^{2}$ for the homework algorithm.\n",
    "    3. Describe your observations of 3(A) and 3(B). What do they mean for the convergence speed of the two algorithms."
   ]
  },
  {
   "cell_type": "code",
   "execution_count": 90,
   "metadata": {},
   "outputs": [],
   "source": [
    "def sqrt_est(x, epsilon = 1e-6):\n",
    "    \n",
    "    # check if x is positive\n",
    "    if x <= 0:\n",
    "        return \"error: please input a positive value.\"\n",
    "    else:\n",
    "        y_n = 1.\n",
    "        y_n1 = (1/2)*(y_n + x/y_n)\n",
    "        \n",
    "        n = 0\n",
    "    \n",
    "        while np.fabs(y_n1 - y_n) >= epsilon and n < 1000:\n",
    "            y_n = y_n1\n",
    "            y_n1 = (1/2)*(y_n + x/y_n)\n",
    "            \n",
    "            n = n + 1\n",
    "            \n",
    "        if n == 1000:\n",
    "            print(\"This should not happen.\", file=sys.stderr)\n",
    "            return None\n",
    "\n",
    "        return y_n1, y_n1**2, n\n"
   ]
  },
  {
   "cell_type": "code",
   "execution_count": 91,
   "metadata": {
    "tags": []
   },
   "outputs": [
    {
     "name": "stdout",
     "output_type": "stream",
     "text": [
      "estimated square root of 2: 1.414213562373095, square root from numpy: 1.4142135623730951\n",
      "estimated square root of 5: 2.236067977499978, square root from numpy: 2.23606797749979\n",
      "estimated square root of 11: 3.3166247903554, square root from numpy: 3.3166247903554\n",
      "estimated square root of 49: 7.000000000000002, square root from numpy: 7.0\n",
      "estimated square root of 111: 10.535653752852738, square root from numpy: 10.535653752852738\n",
      "estimated square root of 225: 15.0, square root from numpy: 15.0\n"
     ]
    }
   ],
   "source": [
    "for i in [2,5,11,49,111,225]:\n",
    "    print(\"estimated square root of {}: {}, square root from numpy: {}\".format(i, sqrt_est(i)[0], np.sqrt(i)))"
   ]
  },
  {
   "cell_type": "code",
   "execution_count": 89,
   "metadata": {
    "tags": []
   },
   "outputs": [],
   "source": [
    "# square root calculation function from the lecture\n",
    "\n",
    "def my_sqrt(x, eps):\n",
    "    \"\"\"\n",
    "    estimate the square root of x up to a given\n",
    "    accuracy eps.\n",
    "    \"\"\"\n",
    "    a = 0.\n",
    "    b = x\n",
    "    middle = (a + b) / 2.\n",
    "    \n",
    "    n = 0\n",
    "    while (b - a) > eps and n < 1000:\n",
    "        if (middle**2) < x:\n",
    "            a = (a + b) / 2.\n",
    "        else:\n",
    "            b = (a + b) / 2.\n",
    "\n",
    "        middle = (a + b) / 2.\n",
    "        n = n + 1\n",
    "\n",
    "    if n == 1000:\n",
    "        print(\"This should not happen!\", file=sys.stderr)\n",
    "        return None\n",
    "\n",
    "    return middle, n\n",
    "   "
   ]
  },
  {
   "cell_type": "code",
   "execution_count": 98,
   "metadata": {
    "tags": []
   },
   "outputs": [
    {
     "name": "stdout",
     "output_type": "stream",
     "text": [
      "square root of 2 from numpy: 1.4142135623730951\n",
      "square root of 2 from homework algorithm: 1.414213562373095, iteration 4\n",
      "square root of 2 from lecture algorithm: 1.4142136573791504, iteration 21\n",
      "square root of 5 from numpy: 2.23606797749979\n",
      "square root of 5 from homework algorithm: 2.236067977499978, iteration 4\n",
      "square root of 5 from lecture algorithm: 2.2360679507255554, iteration 23\n",
      "square root of 11 from numpy: 3.3166247903554\n",
      "square root of 11 from homework algorithm: 3.3166247903554, iteration 5\n",
      "square root of 11 from lecture algorithm: 3.316624492406845, iteration 24\n",
      "square root of 49 from numpy: 7.0\n",
      "square root of 49 from homework algorithm: 7.000000000000002, iteration 6\n",
      "square root of 49 from lecture algorithm: 6.999999947845936, iteration 26\n",
      "square root of 111 from numpy: 10.535653752852738\n",
      "square root of 111 from homework algorithm: 10.535653752852738, iteration 7\n",
      "square root of 111 from lecture algorithm: 10.535653363913298, iteration 27\n",
      "square root of 225 from numpy: 15.0\n",
      "square root of 225 from homework algorithm: 15.0, iteration 8\n",
      "square root of 225 from lecture algorithm: 15.000000363215804, iteration 28\n"
     ]
    }
   ],
   "source": [
    "# compare estimations and iteration times between homework and lecture algorithms\n",
    "\n",
    "# epsilon = 1e-6\n",
    "for i in [2,5,11,49,111,225]:\n",
    "    print(\"square root of {} from numpy: {}\".format(i, np.sqrt(i)))\n",
    "    print(\"square root of {} from homework algorithm: {}, iteration {}\".format(i, sqrt_est(i, epsilon = 1e-6)[0], sqrt_est(i, epsilon = 1e-6)[2]))\n",
    "    print(\"square root of {} from lecture algorithm: {}, iteration {}\".format(i, my_sqrt(i, eps = 1e-6)[0], my_sqrt(i, eps = 1e-6)[1]))\n",
    "    "
   ]
  },
  {
   "cell_type": "code",
   "execution_count": 99,
   "metadata": {
    "tags": []
   },
   "outputs": [
    {
     "name": "stdout",
     "output_type": "stream",
     "text": [
      "square root of 2 from numpy: 1.4142135623730951\n",
      "square root of 2 from homework algorithm: 1.4142135623746899, iteration 3\n",
      "square root of 2 from lecture algorithm: 1.414215087890625, iteration 15\n",
      "square root of 5 from numpy: 2.23606797749979\n",
      "square root of 5 from homework algorithm: 2.236067977499978, iteration 4\n",
      "square root of 5 from lecture algorithm: 2.2360610961914062, iteration 16\n",
      "square root of 11 from numpy: 3.3166247903554\n",
      "square root of 11 from homework algorithm: 3.3166247903554, iteration 5\n",
      "square root of 11 from lecture algorithm: 3.316608428955078, iteration 17\n",
      "square root of 49 from numpy: 7.0\n",
      "square root of 49 from homework algorithm: 7.000000000000002, iteration 6\n",
      "square root of 49 from lecture algorithm: 7.0000200271606445, iteration 19\n",
      "square root of 111 from numpy: 10.535653752852738\n",
      "square root of 111 from homework algorithm: 10.535653752852738, iteration 7\n",
      "square root of 111 from lecture algorithm: 10.535634756088257, iteration 21\n",
      "square root of 225 from numpy: 15.0\n",
      "square root of 225 from homework algorithm: 15.000000000000043, iteration 7\n",
      "square root of 225 from lecture algorithm: 15.000012516975403, iteration 22\n"
     ]
    }
   ],
   "source": [
    "# epsilon = 1e-4\n",
    "\n",
    "for i in [2,5,11,49,111,225]:\n",
    "    print(\"square root of {} from numpy: {}\".format(i, np.sqrt(i)))\n",
    "    print(\"square root of {} from homework algorithm: {}, iteration {}\".format(i, sqrt_est(i, epsilon = 1e-4)[0], sqrt_est(i, epsilon = 1e-4)[2]))\n",
    "    print(\"square root of {} from lecture algorithm: {}, iteration {}\".format(i, my_sqrt(i, eps = 1e-4)[0], my_sqrt(i, eps = 1e-4)[1]))\n",
    "    "
   ]
  },
  {
   "cell_type": "code",
   "execution_count": 100,
   "metadata": {
    "tags": []
   },
   "outputs": [
    {
     "name": "stdout",
     "output_type": "stream",
     "text": [
      "square root of 2 from numpy: 1.4142135623730951\n",
      "square root of 2 from homework algorithm: 1.414213562373095, iteration 4\n",
      "square root of 2 from lecture algorithm: 1.414213564246893, iteration 28\n",
      "square root of 5 from numpy: 2.23606797749979\n",
      "square root of 5 from homework algorithm: 2.23606797749979, iteration 5\n",
      "square root of 5 from lecture algorithm: 2.23606797400862, iteration 29\n",
      "square root of 11 from numpy: 3.3166247903554\n",
      "square root of 11 from homework algorithm: 3.3166247903554, iteration 6\n",
      "square root of 11 from lecture algorithm: 3.3166247920598835, iteration 31\n",
      "square root of 49 from numpy: 7.0\n",
      "square root of 49 from homework algorithm: 7.0, iteration 7\n",
      "square root of 49 from lecture algorithm: 7.000000002037268, iteration 33\n",
      "square root of 111 from numpy: 10.535653752852738\n",
      "square root of 111 from homework algorithm: 10.535653752852738, iteration 7\n",
      "square root of 111 from lecture algorithm: 10.535653754806845, iteration 34\n",
      "square root of 225 from numpy: 15.0\n",
      "square root of 225 from homework algorithm: 15.0, iteration 8\n",
      "square root of 225 from lecture algorithm: 14.999999999781721, iteration 35\n"
     ]
    }
   ],
   "source": [
    "# epsilon = 1e-8\n",
    "\n",
    "for i in [2,5,11,49,111,225]:\n",
    "    print(\"square root of {} from numpy: {}\".format(i, np.sqrt(i)))\n",
    "    print(\"square root of {} from homework algorithm: {}, iteration {}\".format(i, sqrt_est(i, epsilon = 1e-8)[0], sqrt_est(i, epsilon = 1e-8)[2]))\n",
    "    print(\"square root of {} from lecture algorithm: {}, iteration {}\".format(i, my_sqrt(i, eps = 1e-8)[0], my_sqrt(i, eps = 1e-8)[1]))\n",
    "    "
   ]
  },
  {
   "cell_type": "markdown",
   "metadata": {},
   "source": [
    "> In general, smaller $\\epsilon$ requires more iteration times. Homework algorithm requires fewer iterations than the lecture algorithm."
   ]
  },
  {
   "cell_type": "code",
   "execution_count": 123,
   "metadata": {
    "tags": []
   },
   "outputs": [],
   "source": [
    "def my_sqrt_mod(x, eps=1e-6):\n",
    "    \"\"\"\n",
    "    estimate the square root of x up to a given\n",
    "    accuracy eps.\n",
    "    \"\"\"\n",
    "    a = 0.\n",
    "    b = x\n",
    "    middle = (a + b) / 2.\n",
    "    \n",
    "    n = 0\n",
    "    while (b - a) > eps and n < 1000:\n",
    "        eps_n = b - a\n",
    "        if (middle**2) < x:\n",
    "            a = (a + b) / 2.\n",
    "        else:\n",
    "            b = (a + b) / 2.\n",
    "\n",
    "        middle = (a + b) / 2.\n",
    "        eps_n1 = b - a\n",
    "        n = n + 1\n",
    "        print(\"\\u03F5_n={}, \\u03F5_n/\\u03F5_n-1={}\".format(eps_n1, eps_n1/eps_n))\n",
    "\n",
    "    if n == 1000:\n",
    "        print(\"This should not happen!\", file=sys.stderr)\n",
    "        return None\n",
    "\n",
    "    return middle, n\n",
    "   "
   ]
  },
  {
   "cell_type": "code",
   "execution_count": 125,
   "metadata": {
    "tags": []
   },
   "outputs": [
    {
     "name": "stdout",
     "output_type": "stream",
     "text": [
      "ϵ_n=5.0, ϵ_n/ϵ_n-1=0.5\n",
      "ϵ_n=2.5, ϵ_n/ϵ_n-1=0.5\n",
      "ϵ_n=1.25, ϵ_n/ϵ_n-1=0.5\n",
      "ϵ_n=0.625, ϵ_n/ϵ_n-1=0.5\n",
      "ϵ_n=0.3125, ϵ_n/ϵ_n-1=0.5\n",
      "ϵ_n=0.15625, ϵ_n/ϵ_n-1=0.5\n",
      "ϵ_n=0.078125, ϵ_n/ϵ_n-1=0.5\n",
      "ϵ_n=0.0390625, ϵ_n/ϵ_n-1=0.5\n",
      "ϵ_n=0.01953125, ϵ_n/ϵ_n-1=0.5\n",
      "ϵ_n=0.009765625, ϵ_n/ϵ_n-1=0.5\n",
      "ϵ_n=0.0048828125, ϵ_n/ϵ_n-1=0.5\n",
      "ϵ_n=0.00244140625, ϵ_n/ϵ_n-1=0.5\n",
      "ϵ_n=0.001220703125, ϵ_n/ϵ_n-1=0.5\n",
      "ϵ_n=0.0006103515625, ϵ_n/ϵ_n-1=0.5\n",
      "ϵ_n=0.00030517578125, ϵ_n/ϵ_n-1=0.5\n",
      "ϵ_n=0.000152587890625, ϵ_n/ϵ_n-1=0.5\n",
      "ϵ_n=7.62939453125e-05, ϵ_n/ϵ_n-1=0.5\n",
      "ϵ_n=3.814697265625e-05, ϵ_n/ϵ_n-1=0.5\n",
      "ϵ_n=1.9073486328125e-05, ϵ_n/ϵ_n-1=0.5\n",
      "ϵ_n=9.5367431640625e-06, ϵ_n/ϵ_n-1=0.5\n",
      "ϵ_n=4.76837158203125e-06, ϵ_n/ϵ_n-1=0.5\n",
      "ϵ_n=2.384185791015625e-06, ϵ_n/ϵ_n-1=0.5\n",
      "ϵ_n=1.1920928955078125e-06, ϵ_n/ϵ_n-1=0.5\n",
      "ϵ_n=5.960464477539062e-07, ϵ_n/ϵ_n-1=0.5\n"
     ]
    },
    {
     "data": {
      "text/plain": [
       "(3.162277638912201, 24)"
      ]
     },
     "execution_count": 125,
     "metadata": {},
     "output_type": "execute_result"
    }
   ],
   "source": [
    "my_sqrt_mod(10, eps = 1e-6)"
   ]
  },
  {
   "cell_type": "code",
   "execution_count": 128,
   "metadata": {
    "tags": []
   },
   "outputs": [],
   "source": [
    "def sqrt_est_mod(x, epsilon = 1e-6):\n",
    "    \n",
    "    # check if x is positive\n",
    "    if x <= 0:\n",
    "        return \"error: please input a positive value.\"\n",
    "    else:\n",
    "        y_n = 1.\n",
    "        y_n1 = (1/2)*(y_n + x/y_n)\n",
    "        \n",
    "        n = 0\n",
    "    \n",
    "        while np.fabs(y_n1 - y_n) >= epsilon and n < 1000:\n",
    "            eps_n = np.fabs(y_n1-y_n)\n",
    "            y_n = y_n1\n",
    "            y_n1 = (1/2)*(y_n + x/y_n)\n",
    "            eps_n1 = np.fabs(y_n1-y_n)\n",
    "            print(\"\\u03F5_n={}, \\u03F5_n/\\u03F5_n-1^2={}\".format(eps_n1, eps_n1/eps_n))\n",
    "            \n",
    "            n = n + 1\n",
    "            \n",
    "        if n == 1000:\n",
    "            print(\"This should not happen.\", file=sys.stderr)\n",
    "            return None\n",
    "\n",
    "        return y_n1, y_n1**2, n\n"
   ]
  },
  {
   "cell_type": "code",
   "execution_count": 129,
   "metadata": {},
   "outputs": [
    {
     "name": "stdout",
     "output_type": "stream",
     "text": [
      "ϵ_n=1.8409090909090908, ϵ_n/ϵ_n-1^2=0.40909090909090906\n",
      "ϵ_n=0.4630858272162621, ϵ_n/ϵ_n-1^2=0.251552795031056\n",
      "ϵ_n=0.03354945907075724, ϵ_n/ϵ_n-1^2=0.07244760495572145\n",
      "ϵ_n=0.00017795762821481986, ϵ_n/ϵ_n-1^2=0.005304336735787592\n",
      "ϵ_n=5.007295911241272e-09, ϵ_n/ϵ_n-1^2=2.8137573879085205e-05\n"
     ]
    },
    {
     "data": {
      "text/plain": [
       "(3.162277660168379, 9.999999999999998, 5)"
      ]
     },
     "execution_count": 129,
     "metadata": {},
     "output_type": "execute_result"
    }
   ],
   "source": [
    "sqrt_est_mod(10, epsilon = 1e-6)"
   ]
  },
  {
   "cell_type": "markdown",
   "metadata": {},
   "source": [
    "> convergence speed of the homework algorithm is faster than the lecture algorithm, and the lecture algorithm converges at a constant rate."
   ]
  },
  {
   "cell_type": "code",
   "execution_count": null,
   "metadata": {},
   "outputs": [],
   "source": []
  }
 ],
 "metadata": {
  "celltoolbar": "Create Assignment",
  "kernelspec": {
   "display_name": "Python 3 (ipykernel)",
   "language": "python",
   "name": "python3"
  },
  "language_info": {
   "codemirror_mode": {
    "name": "ipython",
    "version": 3
   },
   "file_extension": ".py",
   "mimetype": "text/x-python",
   "name": "python",
   "nbconvert_exporter": "python",
   "pygments_lexer": "ipython3",
   "version": "3.11.6"
  }
 },
 "nbformat": 4,
 "nbformat_minor": 4
}
