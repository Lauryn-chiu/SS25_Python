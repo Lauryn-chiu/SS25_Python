{
 "cells": [
  {
   "cell_type": "markdown",
   "metadata": {
    "nbgrader": {
     "grade": false,
     "grade_id": "cell-515e01b25bda86a9",
     "locked": true,
     "schema_version": 3,
     "solution": false,
     "task": false
    }
   },
   "source": [
    "# Exercises and Homework for week 2"
   ]
  },
  {
   "cell_type": "markdown",
   "metadata": {
    "nbgrader": {
     "grade": false,
     "grade_id": "cell-14ca577e70096fbf",
     "locked": true,
     "schema_version": 3,
     "solution": false,
     "task": false
    }
   },
   "source": [
    "## physics725: Scientific Programming with Python (SS 2025)\n",
    "Matthias Schott & Thomas Erben"
   ]
  },
  {
   "cell_type": "markdown",
   "metadata": {
    "nbgrader": {
     "grade": false,
     "grade_id": "cell-58e8949e2e41603c",
     "locked": true,
     "schema_version": 3,
     "solution": false,
     "task": false
    }
   },
   "source": [
    "Homework is due on **Thursday, 01/05/2025, 11:55pm**\n",
    "\n",
    " * You only learn a programming language by actively praticing and using it! We therefore **strongly** advise you to work on the homework problems.\n",
    " * Please discuss the problems with your student peers and with your tutor.\n",
    " * Your code(s) need(s) to be well and appropriately commented!\n",
    " * Submit your homework. Please ask your tutor if you do not know how to do it. **Please only submit one solution per homework group!**\n",
    "\n",
    "**Topics of this exercise:**\n",
    " * Scalar data types in Python *int*, *float* and *bool*\n",
    " * Control structures *if* and *while*\n",
    " * Floating poing accuracy\n",
    " * Implementation and analysis of simple algorithms"
   ]
  },
  {
   "cell_type": "code",
   "execution_count": 10,
   "metadata": {
    "tags": []
   },
   "outputs": [],
   "source": [
    "#Libraries and dependencies \n",
    "%matplotlib inline\n",
    "\n",
    "import scipy.special as ss\n",
    "import numpy as np\n",
    "import matplotlib.pyplot as plt\n",
    "import matplotlib\n",
    "import math"
   ]
  },
  {
   "cell_type": "markdown",
   "metadata": {},
   "source": [
    "# 1. Lecture review (0 points)"
   ]
  },
  {
   "cell_type": "markdown",
   "metadata": {},
   "source": [
    "If you did the lecture review questions [04_Lecture_Review.ipynb](04_Lecture_Review.ipynb) (strongly recommended!): \n",
    "Please discuss with your tutor and your group any issues/problems you had with them."
   ]
  },
  {
   "cell_type": "markdown",
   "metadata": {
    "tags": []
   },
   "source": [
    "# 2. Machine epsilon (5 points)\n",
    "In class we talked about inaccuracies that occur in a computer when performing operations with floating-point numbers. An important value to quantify floating-point accuracy is the *machine epsilon*. Please have a look at the [Wikipedia article on the machine epsilon](https://en.wikipedia.org/wiki/Machine_epsilon) to learn more about it. \n",
    "\n",
    "The *machine epsilon* is defined as the smallest number $\\epsilon_m$ such that $1.0 + \\epsilon_m > 1.0$. According to the Wikipedia article, the machine epsilon of your programming language can be estimated up to a factor of two with the algorithm:\n",
    "\n",
    "```\n",
    "epsilon_m = 1.0;\n",
    "\n",
    "while (1.0 + 0.5 * epsilon_m) > 1.0:\n",
    "    epsilon_m = 0.5 * epsilon_m\n",
    "\n",
    "```\n",
    "Use this algorithm to determine the *machine epsilon* of the Python-float type. Which float-type is used in Python (see the table of the Wikipedia article)?"
   ]
  },
  {
   "cell_type": "code",
   "execution_count": 11,
   "metadata": {},
   "outputs": [
    {
     "name": "stdout",
     "output_type": "stream",
     "text": [
      "2.220446049250313e-16\n"
     ]
    }
   ],
   "source": [
    "epsilon_m = 1.0;\n",
    "\n",
    "while (1.0 + 0.5 * epsilon_m) > 1.0:\n",
    "    epsilon_m = 0.5 * epsilon_m\n",
    "print(epsilon_m)\n",
    "#binary64, double precision "
   ]
  },
  {
   "cell_type": "markdown",
   "metadata": {},
   "source": [
    "# 3. Test of natural numbers for the prime property (10 points)"
   ]
  },
  {
   "cell_type": "markdown",
   "metadata": {},
   "source": [
    "In the following, we want to develop a program to test positive integer numbers for the prime property. A positive integer larger than 1 is a prime if it cannot be formed by multiplying two smaller natural numbers. \n",
    "\n",
    "The student Lydia Leibnitz proposes the following algorithm for the task:\n",
    "1. We are given a natural number $n$ that we want to test\n",
    "2. In a loop, we test whether `n % m == 0` for all natural numbers $m$ with $2\\leq m < \\sqrt{n}$\n",
    "3. If the test (2) is `True` for any of the tested $m$, then $n$ is not prime. Otherwise, we have a prime number.\n",
    "\n",
    "Lydia gives the following proof for the correctness of her algorithm:\n",
    "Divisors of $n$ come in pairs and say $n = ab$. Then **exactly one** of the two follwing possibilities can be true:\n",
    "1. $a < \\sqrt{n} \\text{ and } b > \\sqrt{n}$\n",
    "2. $a > \\sqrt{n} \\text{ and } b < \\sqrt{n}$\n",
    "\n",
    "To see this, we assume $a< \\sqrt{n} \\text{ and } b < \\sqrt{n}$. Then follows $n = ab < \\sqrt{n}\\sqrt{n} < n$ which leads to the contradiction $n<n$! Similarily, we conclude that not both, $a$ and $b$ can be larger than $\\sqrt{n}$. It follows that one of the divisors of $n$ must be smaller than $\\sqrt{n}$ and we only need to test $2\\leq m < \\sqrt{n}$ to check whether $n$ is a prime.\n",
    "\n",
    "Your tasks:\n",
    "1. Implement Lydias algorithm to test a given number $n$ for the prime property. Your program should report with a text-message, which number is tested and whether it is a prime or not.\n",
    "2. Test your program with the numbers 8, 105, 177, 51, 5, 47, 199 and 967. Your program should report the last four numbers as primes and the others as non-prime.\n",
    "3. Embed your test in a loop and consider systematically all numbers $2\\leq n \\leq 100$ for the prime property. What do you observe?\n",
    "4. (3.) should show you that your program does not work as expected! Find the underlying algorithmic problem and correct your program! Document within your notebook or script what the problem is!\n",
    "\n",
    "**Hint:** In the past, many students *did not find any problem* with their implemented algorithm. In that case, your first issue is that you did **not** implement the algorithm described above."
   ]
  },
  {
   "cell_type": "code",
   "execution_count": 12,
   "metadata": {
    "tags": []
   },
   "outputs": [],
   "source": [
    "# your solution here"
   ]
  },
  {
   "cell_type": "markdown",
   "metadata": {
    "nbgrader": {
     "grade": false,
     "grade_id": "cell-5c20b7824c889804",
     "locked": true,
     "schema_version": 3,
     "solution": false,
     "task": false
    }
   },
   "source": [
    "# 4. Problems with an integral series (15 points)"
   ]
  },
  {
   "cell_type": "markdown",
   "metadata": {
    "nbgrader": {
     "grade": false,
     "grade_id": "cell-637b4ff9e037754d",
     "locked": true,
     "schema_version": 3,
     "solution": false,
     "task": false
    }
   },
   "source": [
    "Consider the sequence\n",
    "$$\n",
    "I_n=\\int_0^1 \\frac{x^{n}}{x+10}\\,\\mathrm{d}x; \\qquad n=1,2,\\dots\n",
    "$$\n",
    "We observe that\n",
    "\n",
    "\\begin{equation}\n",
    "I_n + 10I_{n-1} = \\int_0^1 \\frac{x^{n}+10x^{n-1}}{x+10}\\,\\mathrm{d}x =\n",
    "\\int_0^1 x^{n-1}\\,\\mathrm{d}x = \\frac 1n \\label{eq1}\\tag{1}.\n",
    "\\end{equation}\n",
    "\n",
    "This allows us to obtain $I_n$ with the following recurrence relation: \n",
    "\n",
    "\\begin{equation}\n",
    "I_n = \\frac 1n - 10I_{n-1} \\text{ with } \n",
    "I_0 = \\int_0^1 \\frac{1}{x+10}\\,\\mathrm{d}x = \\ln(11/10)\\approx 0.09531. \\label{eq2}\\tag{2}\n",
    "\\end{equation}\n",
    "\n",
    "One can show that the whole sequence converges to zero: $\\lim_{n\\to\\infty}I_n=0$. \n",
    "\n",
    "We want to numerically estimate $I_{20}$ by using eqs. \\ref{eq1} and \\ref{eq2} and we will calculate and print the first 20 elements of the series in a `while`-loop. \n",
    "\n",
    "There is a second, independent estimate of $I_{20}$ if we revert the first relation from eq. \\ref{eq2}:\n",
    "\\begin{equation}\n",
    "  I_{n-1} = \\frac 1{10}\\left(\\frac 1n -I_{n}\\right) \\text{ with } I_{50} = 0.\\label{eq3}\\tag{3}\n",
    "\\end{equation}\n",
    "This relation allows us to estimate $I_{50}, I_{49}, \\dots, I_{20}$.\n",
    "\n",
    "**Your tasks:**\n",
    "\n",
    "Perform the two experiments with the forward and with the reverse relation and argue which one of the results you trust. Please explain your observations.\n",
    "\n",
    "**Hints:** \n",
    " * Assume for the first case (forward relation) that $I_0$ is represented internally as a float number with an error, i.e. $I_0 = \\ln(11/10) + \\epsilon$, where $\\epsilon$ is the error. We know that $\\epsilon\\approx 10^{-18}$ for `Python` float numbers. What happens with $\\epsilon$ when you calculate new elements of the series? \n",
    " * for the logarithm you can use the numpy module with ```import numpy``` and use the defined function ```numpy.log(x)``` to obtain $\\ln(x)$!"
   ]
  },
  {
   "cell_type": "code",
   "execution_count": 13,
   "metadata": {},
   "outputs": [],
   "source": [
    "# Your solution with the forward relation from eq. (2)"
   ]
  },
  {
   "cell_type": "code",
   "execution_count": 14,
   "metadata": {},
   "outputs": [],
   "source": [
    "# Your solution with the reverse relation from eq. (3)"
   ]
  },
  {
   "cell_type": "markdown",
   "metadata": {},
   "source": [
    "Discussion of results here please"
   ]
  },
  {
   "cell_type": "markdown",
   "metadata": {},
   "source": [
    "# 5. Another numerical estimate for the square-root of a positive number (20 points)"
   ]
  },
  {
   "cell_type": "markdown",
   "metadata": {},
   "source": [
    "in class, I showed you an algorithm to estimate the square root of a number. Here is another one:\n",
    "\n",
    "*We want to estimate the square root of a positive number $x$. We start with an arbitrary number $y_0>0$ and calculate the sequence $y_{n+1}=\\frac 12\\left(y_n+\\frac{x}{y_n}\\right)$. The sequence converges to $\\sqrt{x}$, i.e. $\\lim_{n\\to\\infty}y_n=\\sqrt{x}$*.\n",
    "\n",
    "Your tasks:\n",
    "\n",
    "1. Implement the algorithm in a Python-program. Start with $y_0=1$ and calculate the $y_i$ in a `while`-loop. Finish the loop when $|y_{n+1}-y_n| < \\epsilon$ with $\\epsilon=10^{-6}$. Consider $y_{n+1}$ as your estimate for $\\sqrt{x}$ and print $y_{n+1}$ and $y_{n+1}^2$ (the latter is a test for your estimate!).\n",
    "\n",
    "    **Hint:**\n",
    "\n",
    "    A function to obtain the absolute value of a float-number is `numpy.fabs`.\n"
   ]
  },
  {
   "cell_type": "code",
   "execution_count": 148,
   "metadata": {},
   "outputs": [],
   "source": [
    "def sqr_estimation(x,eps): \n",
    "    \"\"\"\n",
    "    Estimate the square root of a positive number.\n",
    "\n",
    "    Parameters:\n",
    "        x (float): The number to compute the square root of. Must be > 0.\n",
    "        epsilon_m (float): The precision threshold for stopping the iteration.\n",
    "\n",
    "    Returns:\n",
    "        list [x,y,i]: List with inserted value (x), result(y) and number of iterations (i)\n",
    "    \"\"\"\n",
    "\n",
    "    if x <= 0: #Validation of input value\n",
    "        raise ValueError(\"Insert only positive numbers\") #Error message\n",
    "        \n",
    "    y_0=1  #Initializing the starting value of the sequence\n",
    "    y = 0.5*(y_0 + x/y_0)  #Initial iteration\n",
    "    i=0\n",
    "\n",
    "    while np.fabs(y-y_0) > epsilon_m: #Since |y-y_0| decrease with iterations the while \n",
    "        y_0=y                         # loop stops when |y-y_0|<epsilon is achieved\n",
    "        y= 0.5*(y_0 + x/y_0)          #Iterations until convergence\n",
    "        i=i+1\n",
    "    \n",
    "    if i == 1000: \n",
    "        print(\"This should not happen! \", file=sys.stderr) #Error message if the number of iterations overpassed 1000.\n",
    "        return None\n",
    "       \n",
    "    return [x, y, i]\n",
    "\n",
    "\n",
    "\n",
    "\n",
    "\"\"\"\n",
    "    Print the results.\n",
    "\n",
    "    Parameters:\n",
    "        f (list): function that estimates the square root with input parameter (x,eps).\n",
    "\n",
    "    Returns:\n",
    "        This is a non-returning value function.\n",
    "    \"\"\"\n",
    "def results_estimation(f): #Void function that print the results nicely. \n",
    "    print(f\"Estimated sqrt ({f[0]}): {f[1]}\") #Estimated value\n",
    "    print(f\"Square of estimate: {f[1] ** 2}\") #Test ot the estimate, should converge to x\n",
    "    print(f\"Number of iterations: {f[2]}\") #Number of iterations\n",
    "    print(\"\")"
   ]
  },
  {
   "cell_type": "markdown",
   "metadata": {},
   "source": [
    "2. Test your program with $x\\in \\{2, 5, 11, 49, 111, 225\\}$ and verify that the estimated square roots meet your expectations."
   ]
  },
  {
   "cell_type": "code",
   "execution_count": 149,
   "metadata": {
    "tags": []
   },
   "outputs": [
    {
     "name": "stdout",
     "output_type": "stream",
     "text": [
      "Estimated sqrt (2): 1.414213562373095\n",
      "Square of estimate: 1.9999999999999996\n",
      "Number of iterations: 5\n",
      "\n",
      "Estimated sqrt (5): 2.23606797749979\n",
      "Square of estimate: 5.000000000000001\n",
      "Number of iterations: 6\n",
      "\n",
      "Estimated sqrt (11): 3.3166247903554\n",
      "Square of estimate: 11.0\n",
      "Number of iterations: 6\n",
      "\n",
      "Estimated sqrt (49): 7.0\n",
      "Square of estimate: 49.0\n",
      "Number of iterations: 8\n",
      "\n",
      "Estimated sqrt (111): 10.535653752852738\n",
      "Square of estimate: 110.99999999999999\n",
      "Number of iterations: 8\n",
      "\n",
      "Estimated sqrt (225): 15.0\n",
      "Square of estimate: 225.0\n",
      "Number of iterations: 9\n",
      "\n"
     ]
    }
   ],
   "source": [
    "#Test with proposed values\n",
    "eps=1e-6\n",
    "results_estimation(sqr_estimation(2,eps))\n",
    "results_estimation(sqr_estimation(5,eps))\n",
    "results_estimation(sqr_estimation(11,eps))\n",
    "results_estimation(sqr_estimation(49,eps))\n",
    "results_estimation(sqr_estimation(111,eps))\n",
    "results_estimation(sqr_estimation(225,eps))"
   ]
  },
  {
   "cell_type": "markdown",
   "metadata": {},
   "source": [
    "3. If we have available several algorithms for the same task, we would like to learn about the strengths and weaknesses of each (accuracy, reliability, robustness, performance). We would like to compare the lecture algorithm to the new one and verify whether one can estimate the square root more efficiently (with less iterations) than the other.\n",
    "\n",
    "    1. Run both algorithms to estimate square roots of different numbers up to a given accuracy $\\epsilon$ as defined in the algorithms. Print the number of iterations that each algorithm needs to reach the required $\\epsilon$. Please repeat the exercise for several values of $\\epsilon$. What do you observe?\n"
   ]
  },
  {
   "cell_type": "code",
   "execution_count": 150,
   "metadata": {
    "tags": []
   },
   "outputs": [],
   "source": [
    "#Function given in the Lecture\n",
    "def my_sqrt(x, eps):\n",
    "    \"\"\"\n",
    "    estimate the square root of x up to a given\n",
    "    accuracy eps.\n",
    "    \n",
    "     Returns:\n",
    "        list [x,middle,n]: List with inserted value (x), result (middle) and number of iterations (n)\n",
    "    \n",
    "    \"\"\"\n",
    "    a = 0.\n",
    "    b = x\n",
    "    middle = (a + b) / 2.\n",
    "    \n",
    "    n = 0\n",
    "    while (b - a) > eps and n < 1000:\n",
    "        if (middle**2) < x:\n",
    "            a = (a + b) / 2.\n",
    "        else:\n",
    "            b = (a + b) / 2.\n",
    "\n",
    "        middle = (a + b) / 2.\n",
    "        n = n + 1\n",
    "\n",
    "    if n == 1000:\n",
    "        print(\"This should not happen!\", file=sys.stderr)\n",
    "        return None\n",
    "\n",
    "    return [x, middle,n]"
   ]
  },
  {
   "cell_type": "code",
   "execution_count": 151,
   "metadata": {
    "tags": []
   },
   "outputs": [
    {
     "name": "stdout",
     "output_type": "stream",
     "text": [
      "Epsilon=  1e-06\n",
      "\n",
      "Our estimation:\n",
      "Estimated sqrt (2): 1.414213562373095\n",
      "Square of estimate: 1.9999999999999996\n",
      "Number of iterations: 5\n",
      "\n",
      "Lecture estimation:\n",
      "Estimated sqrt (2): 1.4142136573791504\n",
      "Square of estimate: 2.000000268717713\n",
      "Number of iterations: 21\n",
      "\n",
      "**********************************************\n",
      "Our estimation achieves convergence in less iterations : 5  vs  21\n",
      "**********************************************\n",
      "Epsilon=  1e-10\n",
      "\n",
      "Our estimation:\n",
      "Estimated sqrt (2): 1.414213562373095\n",
      "Square of estimate: 1.9999999999999996\n",
      "Number of iterations: 5\n",
      "\n",
      "Lecture estimation:\n",
      "Estimated sqrt (2): 1.414213562355144\n",
      "Square of estimate: 1.9999999999492266\n",
      "Number of iterations: 35\n",
      "\n",
      "**********************************************\n",
      "Our estimation achieves convergence in less iterations : 5  vs  35\n",
      "**********************************************\n",
      "Epsilon=  1e-13\n",
      "\n",
      "Our estimation:\n",
      "Estimated sqrt (2): 1.414213562373095\n",
      "Square of estimate: 1.9999999999999996\n",
      "Number of iterations: 5\n",
      "\n",
      "Lecture estimation:\n",
      "Estimated sqrt (2): 1.414213562373078\n",
      "Square of estimate: 1.9999999999999518\n",
      "Number of iterations: 45\n",
      "\n",
      "**********************************************\n",
      "Our estimation achieves convergence in less iterations : 5  vs  45\n",
      "**********************************************\n",
      "Epsilon=  1e-06\n",
      "\n",
      "Our estimation:\n",
      "Estimated sqrt (5): 2.23606797749979\n",
      "Square of estimate: 5.000000000000001\n",
      "Number of iterations: 6\n",
      "\n",
      "Lecture estimation:\n",
      "Estimated sqrt (5): 2.2360679507255554\n",
      "Square of estimate: 4.999999880261985\n",
      "Number of iterations: 23\n",
      "\n",
      "**********************************************\n",
      "Our estimation achieves convergence in less iterations : 6  vs  23\n",
      "**********************************************\n",
      "Epsilon=  1e-10\n",
      "\n",
      "Our estimation:\n",
      "Estimated sqrt (5): 2.23606797749979\n",
      "Square of estimate: 5.000000000000001\n",
      "Number of iterations: 6\n",
      "\n",
      "Lecture estimation:\n",
      "Estimated sqrt (5): 2.2360679774646997\n",
      "Square of estimate: 4.999999999843072\n",
      "Number of iterations: 36\n",
      "\n",
      "**********************************************\n",
      "Our estimation achieves convergence in less iterations : 6  vs  36\n",
      "**********************************************\n",
      "Epsilon=  1e-13\n",
      "\n",
      "Our estimation:\n",
      "Estimated sqrt (5): 2.23606797749979\n",
      "Square of estimate: 5.000000000000001\n",
      "Number of iterations: 6\n",
      "\n",
      "Lecture estimation:\n",
      "Estimated sqrt (5): 2.236067977499765\n",
      "Square of estimate: 4.999999999999889\n",
      "Number of iterations: 46\n",
      "\n",
      "**********************************************\n",
      "Our estimation achieves convergence in less iterations : 6  vs  46\n",
      "**********************************************\n",
      "Epsilon=  1e-06\n",
      "\n",
      "Our estimation:\n",
      "Estimated sqrt (11): 3.3166247903554\n",
      "Square of estimate: 11.0\n",
      "Number of iterations: 6\n",
      "\n",
      "Lecture estimation:\n",
      "Estimated sqrt (11): 3.316624492406845\n",
      "Square of estimate: 10.999998023632962\n",
      "Number of iterations: 24\n",
      "\n",
      "**********************************************\n",
      "Our estimation achieves convergence in less iterations : 6  vs  24\n",
      "**********************************************\n",
      "Epsilon=  1e-10\n",
      "\n",
      "Our estimation:\n",
      "Estimated sqrt (11): 3.3166247903554\n",
      "Square of estimate: 11.0\n",
      "Number of iterations: 6\n",
      "\n",
      "Lecture estimation:\n",
      "Estimated sqrt (11): 3.3166247903391195\n",
      "Square of estimate: 10.999999999892008\n",
      "Number of iterations: 37\n",
      "\n",
      "**********************************************\n",
      "Our estimation achieves convergence in less iterations : 6  vs  37\n",
      "**********************************************\n",
      "Epsilon=  1e-13\n",
      "\n",
      "Our estimation:\n",
      "Estimated sqrt (11): 3.3166247903554\n",
      "Square of estimate: 11.0\n",
      "Number of iterations: 6\n",
      "\n",
      "Lecture estimation:\n",
      "Estimated sqrt (11): 3.316624790355416\n",
      "Square of estimate: 11.000000000000107\n",
      "Number of iterations: 47\n",
      "\n",
      "**********************************************\n",
      "Our estimation achieves convergence in less iterations : 6  vs  47\n",
      "**********************************************\n",
      "Epsilon=  1e-06\n",
      "\n",
      "Our estimation:\n",
      "Estimated sqrt (49): 7.0\n",
      "Square of estimate: 49.0\n",
      "Number of iterations: 8\n",
      "\n",
      "Lecture estimation:\n",
      "Estimated sqrt (49): 6.999999947845936\n",
      "Square of estimate: 48.9999992698431\n",
      "Number of iterations: 26\n",
      "\n",
      "**********************************************\n",
      "Our estimation achieves convergence in less iterations : 8  vs  26\n",
      "**********************************************\n",
      "Epsilon=  1e-10\n",
      "\n",
      "Our estimation:\n",
      "Estimated sqrt (49): 7.0\n",
      "Square of estimate: 49.0\n",
      "Number of iterations: 8\n",
      "\n",
      "Lecture estimation:\n",
      "Estimated sqrt (49): 7.000000000031832\n",
      "Square of estimate: 49.00000000044565\n",
      "Number of iterations: 39\n",
      "\n",
      "**********************************************\n",
      "Our estimation achieves convergence in less iterations : 8  vs  39\n",
      "**********************************************\n",
      "Epsilon=  1e-13\n",
      "\n",
      "Our estimation:\n",
      "Estimated sqrt (49): 7.0\n",
      "Square of estimate: 49.0\n",
      "Number of iterations: 8\n",
      "\n",
      "Lecture estimation:\n",
      "Estimated sqrt (49): 7.000000000000019\n",
      "Square of estimate: 49.00000000000026\n",
      "Number of iterations: 49\n",
      "\n",
      "**********************************************\n",
      "Our estimation achieves convergence in less iterations : 8  vs  49\n",
      "**********************************************\n",
      "Epsilon=  1e-06\n",
      "\n",
      "Our estimation:\n",
      "Estimated sqrt (111): 10.535653752852738\n",
      "Square of estimate: 110.99999999999999\n",
      "Number of iterations: 8\n",
      "\n",
      "Lecture estimation:\n",
      "Estimated sqrt (111): 10.535653363913298\n",
      "Square of estimate: 110.99999180453759\n",
      "Number of iterations: 27\n",
      "\n",
      "**********************************************\n",
      "Our estimation achieves convergence in less iterations : 8  vs  27\n",
      "**********************************************\n",
      "Epsilon=  1e-10\n",
      "\n",
      "Our estimation:\n",
      "Estimated sqrt (111): 10.535653752852738\n",
      "Square of estimate: 110.99999999999999\n",
      "Number of iterations: 8\n",
      "\n",
      "Lecture estimation:\n",
      "Estimated sqrt (111): 10.535653752863482\n",
      "Square of estimate: 111.00000000022636\n",
      "Number of iterations: 41\n",
      "\n",
      "**********************************************\n",
      "Our estimation achieves convergence in less iterations : 8  vs  41\n",
      "**********************************************\n",
      "Epsilon=  1e-13\n",
      "\n",
      "Our estimation:\n",
      "Estimated sqrt (111): 10.535653752852738\n",
      "Square of estimate: 110.99999999999999\n",
      "Number of iterations: 8\n",
      "\n",
      "Lecture estimation:\n",
      "Estimated sqrt (111): 10.535653752852784\n",
      "Square of estimate: 111.00000000000097\n",
      "Number of iterations: 50\n",
      "\n",
      "**********************************************\n",
      "Our estimation achieves convergence in less iterations : 8  vs  50\n",
      "**********************************************\n",
      "Epsilon=  1e-06\n",
      "\n",
      "Our estimation:\n",
      "Estimated sqrt (225): 15.0\n",
      "Square of estimate: 225.0\n",
      "Number of iterations: 9\n",
      "\n",
      "Lecture estimation:\n",
      "Estimated sqrt (225): 15.000000363215804\n",
      "Square of estimate: 225.00001089647427\n",
      "Number of iterations: 28\n",
      "\n",
      "**********************************************\n",
      "Our estimation achieves convergence in less iterations : 9  vs  28\n",
      "**********************************************\n",
      "Epsilon=  1e-10\n",
      "\n",
      "Our estimation:\n",
      "Estimated sqrt (225): 15.0\n",
      "Square of estimate: 225.0\n",
      "Number of iterations: 9\n",
      "\n",
      "Lecture estimation:\n",
      "Estimated sqrt (225): 15.000000000011937\n",
      "Square of estimate: 225.0000000003581\n",
      "Number of iterations: 42\n",
      "\n",
      "**********************************************\n",
      "Our estimation achieves convergence in less iterations : 9  vs  42\n",
      "**********************************************\n",
      "Epsilon=  1e-13\n",
      "\n",
      "Our estimation:\n",
      "Estimated sqrt (225): 15.0\n",
      "Square of estimate: 225.0\n",
      "Number of iterations: 9\n",
      "\n",
      "Lecture estimation:\n",
      "Estimated sqrt (225): 14.999999999999996\n",
      "Square of estimate: 224.9999999999999\n",
      "Number of iterations: 51\n",
      "\n",
      "**********************************************\n",
      "Our estimation achieves convergence in less iterations : 9  vs  51\n",
      "**********************************************\n"
     ]
    }
   ],
   "source": [
    "#Testing both Algorithms\n",
    "\n",
    "x_list=[2,5,11,49,111,225] #Input values(same as before)\n",
    "eps_list=[1e-6, 1e-10, 1e-13] #Input accuracies\n",
    "\n",
    "for x in x_list: #For loop that iterate over the input values\n",
    "    for eps in eps_list:\n",
    "        print(f\"Epsilon= \",eps)\n",
    "        print(\"\")\n",
    "        print(\"Our estimation:\")\n",
    "        r1= sqr_estimation(x,eps)\n",
    "        results_estimation(r1) \n",
    "        print(\"Lecture estimation:\")\n",
    "        r2= my_sqrt(x,eps) \n",
    "        results_estimation(r2)\n",
    "        print(\"**********************************************\")\n",
    "        \n",
    "        #Conditional to evaluate which algorithm converges in the less numer of iterations\n",
    "        if r1[2]<r2[2]:\n",
    "            print(f\"Our estimation achieves convergence in less iterations :\",r1[2],\" vs \",r2[2])\n",
    "        else:\n",
    "            if r1[2]>r2[2]:\n",
    "                print(f\"The lecture estimation achieves convergence in less iterations :\",r2[2],\" vs \", r1[2])\n",
    "            else: \n",
    "                print(f\"Both converges in the same number of iterations :\",r1[2],\"=\",r2[2])        \n",
    "        print(\"**********************************************\")"
   ]
  },
  {
   "cell_type": "markdown",
   "metadata": {},
   "source": [
    "2. Modify your codes to print in each iteration $n$ of the square-root estimation:\n",
    "         1. The values $\\epsilon_{n}$ and $\\epsilon_{n} / \\epsilon_{n-1}$ for the lecture algorithm. $\\epsilon_{n}$ is the estimate of $\\epsilon$ for iteration $n$ and  $\\epsilon_{n-1}$ the corresponding value for iteration $n-1$.\n",
    "         2. The values $\\epsilon_{n}$ and $\\epsilon_{n} / \\epsilon_{n-1}^{2}$ for the homework algorithm.\n",
    "3. Describe your observations of 3(A) and 3(B). What do they mean for the convergence speed of the two algorithms."
   ]
  },
  {
   "cell_type": "code",
   "execution_count": 196,
   "metadata": {},
   "outputs": [],
   "source": [
    "def mod_sqr_estimation(x,eps): \n",
    "    \"\"\"\n",
    "    Estimate the square root of a positive number.\n",
    "\n",
    "    Parameters:\n",
    "        x (float): The number to compute the square root of. Must be > 0.\n",
    "        epsilon_m (float): The precision threshold for stopping the iteration.\n",
    "\n",
    "    Returns:\n",
    "        list [x,y,i]: List with inserted value (x), result(y) and number of iterations (i)\n",
    "    \"\"\"\n",
    "\n",
    "    if x <= 0: #Validation of input value\n",
    "        raise ValueError(\"Insert only positive numbers\") #Error message\n",
    "        \n",
    "    y_0=1  #Initializing the starting value of the sequence\n",
    "    y = 0.5*(y_0 + x/y_0)  #Initial iteration\n",
    "    e_n_old=np.fabs(y-y_0)\n",
    "    i=0\n",
    "\n",
    "    while np.fabs(y-y_0) > epsilon_m:  \n",
    "        y_0=y                         \n",
    "        y= 0.5*(y_0 + x/y_0)          #Iterations until convergence\n",
    "        i=i+1\n",
    "        e_n_new=np.fabs(y-y_0)         #Convergence value after n iteration\n",
    "        q=e_n_new/(e_n_old**2)         #Quantity e_n_old/(e_n_old^2)\n",
    "        e_n_old=e_n_new\n",
    "        print(\"Iteration:\",i,\", Convergence quantity: \" ,q)\n",
    "\n",
    "    if i == 1000: \n",
    "        print(\"This should not happen! \", file=sys.stderr) #Error message if the number of iterations overpassed 1000.\n",
    "        return None\n",
    "       \n",
    "    return [x, y, i]\n"
   ]
  },
  {
   "cell_type": "code",
   "execution_count": 197,
   "metadata": {
    "tags": []
   },
   "outputs": [
    {
     "name": "stdout",
     "output_type": "stream",
     "text": [
      "Iteration: 1 , Convergence quantity:  0.038461538461538464\n",
      "Iteration: 2 , Convergence quantity:  0.06701030927835051\n",
      "Iteration: 3 , Convergence quantity:  0.09248936482323603\n",
      "Iteration: 4 , Convergence quantity:  0.09969597509126257\n",
      "Iteration: 5 , Convergence quantity:  0.09999953643953233\n",
      "Iteration: 6 , Convergence quantity:  0.09999900102030107\n",
      "Iteration: 7 , Convergence quantity:  0.0\n"
     ]
    },
    {
     "data": {
      "text/plain": [
       "[25, 5.0, 7]"
      ]
     },
     "execution_count": 197,
     "metadata": {},
     "output_type": "execute_result"
    }
   ],
   "source": [
    "mod_sqr_estimation(25,1e-6)"
   ]
  },
  {
   "cell_type": "code",
   "execution_count": 201,
   "metadata": {
    "tags": []
   },
   "outputs": [],
   "source": [
    "#Function given in the Lecture\n",
    "def my_sqrt(x, eps):\n",
    "    \"\"\"\n",
    "    estimate the square root of x up to a given\n",
    "    accuracy eps.\n",
    "    \n",
    "     Returns:\n",
    "        list [x,middle,n]: List with inserted value (x), result (middle) and number of iterations (n)\n",
    "    \n",
    "    \"\"\"\n",
    "    a = 0.\n",
    "    b = x\n",
    "    middle = (a + b) / 2.\n",
    "    e_old=(b - a)\n",
    "    n = 0\n",
    "    while (b - a) > eps and n < 1000:\n",
    "        if (middle**2) < x:\n",
    "            a = (a + b) / 2.\n",
    "        else:\n",
    "            b = (a + b) / 2.\n",
    "        \n",
    "        middle = (a + b) / 2.\n",
    "        e_new= (b - a)\n",
    "        n = n + 1\n",
    "        q= e_new/e_old\n",
    "        e_old= e_new\n",
    "        print(\"Iteration:\",n,\", Convergence quantity: \" ,q)\n",
    "\n",
    "    if n == 1000:\n",
    "        print(\"This should not happen!\", file=sys.stderr)\n",
    "        return None\n",
    "\n",
    "    return [x, middle,n]"
   ]
  },
  {
   "cell_type": "code",
   "execution_count": 202,
   "metadata": {
    "tags": []
   },
   "outputs": [
    {
     "name": "stdout",
     "output_type": "stream",
     "text": [
      "Iteration: 1 , Convergence quantity:  0.5\n",
      "Iteration: 2 , Convergence quantity:  0.5\n",
      "Iteration: 3 , Convergence quantity:  0.5\n",
      "Iteration: 4 , Convergence quantity:  0.5\n",
      "Iteration: 5 , Convergence quantity:  0.5\n",
      "Iteration: 6 , Convergence quantity:  0.5\n",
      "Iteration: 7 , Convergence quantity:  0.5\n",
      "Iteration: 8 , Convergence quantity:  0.5\n",
      "Iteration: 9 , Convergence quantity:  0.5\n",
      "Iteration: 10 , Convergence quantity:  0.5\n",
      "Iteration: 11 , Convergence quantity:  0.5\n",
      "Iteration: 12 , Convergence quantity:  0.5\n",
      "Iteration: 13 , Convergence quantity:  0.5\n",
      "Iteration: 14 , Convergence quantity:  0.5\n",
      "Iteration: 15 , Convergence quantity:  0.5\n",
      "Iteration: 16 , Convergence quantity:  0.5\n",
      "Iteration: 17 , Convergence quantity:  0.5\n",
      "Iteration: 18 , Convergence quantity:  0.5\n",
      "Iteration: 19 , Convergence quantity:  0.5\n",
      "Iteration: 20 , Convergence quantity:  0.5\n",
      "Iteration: 21 , Convergence quantity:  0.5\n",
      "Iteration: 22 , Convergence quantity:  0.5\n",
      "Iteration: 23 , Convergence quantity:  0.5\n",
      "Iteration: 24 , Convergence quantity:  0.5\n",
      "Iteration: 25 , Convergence quantity:  0.5\n"
     ]
    },
    {
     "data": {
      "text/plain": [
       "[25.0, 5.000000074505806, 25]"
      ]
     },
     "execution_count": 202,
     "metadata": {},
     "output_type": "execute_result"
    }
   ],
   "source": [
    "my_sqrt(25.,1e-6)"
   ]
  },
  {
   "cell_type": "code",
   "execution_count": null,
   "metadata": {},
   "outputs": [],
   "source": []
  },
  {
   "cell_type": "code",
   "execution_count": null,
   "metadata": {},
   "outputs": [],
   "source": []
  }
 ],
 "metadata": {
  "celltoolbar": "Create Assignment",
  "kernelspec": {
   "display_name": "Python 3 (ipykernel)",
   "language": "python",
   "name": "python3"
  },
  "language_info": {
   "codemirror_mode": {
    "name": "ipython",
    "version": 3
   },
   "file_extension": ".py",
   "mimetype": "text/x-python",
   "name": "python",
   "nbconvert_exporter": "python",
   "pygments_lexer": "ipython3",
   "version": "3.11.6"
  }
 },
 "nbformat": 4,
 "nbformat_minor": 4
}
